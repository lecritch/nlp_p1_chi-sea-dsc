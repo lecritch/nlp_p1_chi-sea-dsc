{
 "cells": [
  {
   "cell_type": "markdown",
   "metadata": {},
   "source": [
    "# Agenda today:\n",
    "1. Overview of NLP\n",
    "2. Pre-Processing for NLP \n",
    "    - Tokenization\n",
    "    - Stopwords removal\n",
    "    - Lexicon normalization: lemmatization and stemming\n",
    "3. Feature Engineering for NLP\n",
    "    - Bag-of-Words\n",
    "    - Count Vectorizer\n",
    "    - Term frequency-Inverse Document Frequency (tf-idf)\n"
   ]
  },
  {
   "cell_type": "code",
   "execution_count": 1,
   "metadata": {},
   "outputs": [],
   "source": [
    "# This is always a good idea\n",
    "%load_ext autoreload\n",
    "%autoreload 2\n",
    "\n",
    "import os\n",
    "import sys\n",
    "module_path = os.path.abspath(os.path.join(os.pardir, os.pardir))\n",
    "if module_path not in sys.path:\n",
    "    sys.path.append(module_path)\n",
    "\n",
    "mccalister = ['Adam', 'Amanda','Chum', 'Dann',\n",
    " 'Jacob', 'Jason', 'Johnhoy', 'Karim',\n",
    "'Leana','Luluva', 'Matt', 'Maximilian','Syd' ]\n",
    "\n",
    "from src.student_caller import one_random_student"
   ]
  },
  {
   "cell_type": "markdown",
   "metadata": {},
   "source": [
    "## 1. Overview of NLP\n",
    "NLP allows computers to interact with text data in a structured and sensible way. In short, we will be breaking up series of texts into individual words (or groups of words), and isolating the words with **semantic value**.  We will then compare texts with similar distributions of these words, and group them together.\n",
    "\n",
    "In this section, we will discuss some steps and approaches to common text data analytic procedures. In other words, with NLP, computers are taught to understand human language, its meaning and sentiments. Some of the applications of natural language processing are:\n",
    "- Chatbots \n",
    "- Speech recognition and audio processing \n",
    "- Classifying documents \n",
    "\n",
    "Here is an example that uses some of the tools we use in this notebook.  \n",
    "  -[chi_justice_project](https://chicagojustice.org/research/justice-media-project/)  \n",
    "  -[chicago_justice classifier](https://github.com/chicago-justice-project/article-tagging/blob/master/lib/notebooks/bag-of-words-count-stemmed-binary.ipynb)\n",
    "\n",
    "We will introduce you to the preprocessing steps, feature engineering, and other steps you need to take in order to format text data for machine learning tasks. \n",
    "\n",
    "We will also introduce you to [**NLTK**](https://www.nltk.org/) (Natural Language Toolkit), which will be our main tool for engaging with textual data."
   ]
  },
  {
   "cell_type": "markdown",
   "metadata": {},
   "source": [
    "# NLP process \n",
    "<img src=\"img/nlp_process.png\" style=\"width:1000px;\">"
   ]
  },
  {
   "cell_type": "markdown",
   "metadata": {},
   "source": [
    "# 2. Preprocessing for NLP"
   ]
  },
  {
   "cell_type": "code",
   "execution_count": null,
   "metadata": {},
   "outputs": [],
   "source": [
    "#!pip install nltk\n",
    "# conda install -c anaconda nltk"
   ]
  },
  {
   "cell_type": "markdown",
   "metadata": {},
   "source": [
    "We will be working with a dataset which includes both **satirical** (The Onion) and real news (Reuters) articles. \n",
    "\n",
    "We refer to the entire set of articles as the **corpus**.  "
   ]
  },
  {
   "cell_type": "code",
   "execution_count": 2,
   "metadata": {},
   "outputs": [
    {
     "data": {
      "text/plain": [
       "(1000, 2)"
      ]
     },
     "execution_count": 2,
     "metadata": {},
     "output_type": "execute_result"
    }
   ],
   "source": [
    "import pandas as pd\n",
    "\n",
    "corpus = pd.read_csv('data/satire_nosatire.csv')\n",
    "corpus.shape"
   ]
  },
  {
   "cell_type": "code",
   "execution_count": 3,
   "metadata": {},
   "outputs": [
    {
     "data": {
      "text/html": [
       "<div>\n",
       "<style scoped>\n",
       "    .dataframe tbody tr th:only-of-type {\n",
       "        vertical-align: middle;\n",
       "    }\n",
       "\n",
       "    .dataframe tbody tr th {\n",
       "        vertical-align: top;\n",
       "    }\n",
       "\n",
       "    .dataframe thead th {\n",
       "        text-align: right;\n",
       "    }\n",
       "</style>\n",
       "<table border=\"1\" class=\"dataframe\">\n",
       "  <thead>\n",
       "    <tr style=\"text-align: right;\">\n",
       "      <th></th>\n",
       "      <th>body</th>\n",
       "      <th>target</th>\n",
       "    </tr>\n",
       "  </thead>\n",
       "  <tbody>\n",
       "    <tr>\n",
       "      <td>0</td>\n",
       "      <td>Noting that the resignation of James Mattis as...</td>\n",
       "      <td>1</td>\n",
       "    </tr>\n",
       "    <tr>\n",
       "      <td>1</td>\n",
       "      <td>Desperate to unwind after months of nonstop wo...</td>\n",
       "      <td>1</td>\n",
       "    </tr>\n",
       "    <tr>\n",
       "      <td>2</td>\n",
       "      <td>Nearly halfway through his presidential term, ...</td>\n",
       "      <td>1</td>\n",
       "    </tr>\n",
       "    <tr>\n",
       "      <td>3</td>\n",
       "      <td>Attempting to make amends for gross abuses of ...</td>\n",
       "      <td>1</td>\n",
       "    </tr>\n",
       "    <tr>\n",
       "      <td>4</td>\n",
       "      <td>Decrying the Senate’s resolution blaming the c...</td>\n",
       "      <td>1</td>\n",
       "    </tr>\n",
       "  </tbody>\n",
       "</table>\n",
       "</div>"
      ],
      "text/plain": [
       "                                                body  target\n",
       "0  Noting that the resignation of James Mattis as...       1\n",
       "1  Desperate to unwind after months of nonstop wo...       1\n",
       "2  Nearly halfway through his presidential term, ...       1\n",
       "3  Attempting to make amends for gross abuses of ...       1\n",
       "4  Decrying the Senate’s resolution blaming the c...       1"
      ]
     },
     "execution_count": 3,
     "metadata": {},
     "output_type": "execute_result"
    }
   ],
   "source": [
    "corpus.head()"
   ]
  },
  {
   "cell_type": "markdown",
   "metadata": {},
   "source": [
    "Our goal is to detect satire, so our target class of 1 is associated with The Onion articles.  "
   ]
  },
  {
   "cell_type": "markdown",
   "metadata": {},
   "source": [
    "![the_onion](img/the_onion.jpeg) ![reuters](img/reuters.png)"
   ]
  },
  {
   "cell_type": "code",
   "execution_count": 4,
   "metadata": {},
   "outputs": [
    {
     "data": {
      "text/plain": [
       "'In recognition of the brave and altruistic Americans who risk their health and safety for the greater good, Pentagon officials announced Thursday that the U.S. military would honor the sacrifices of NFL players by wearing their jerseys throughout December. “Every week, these men are out there on the gridiron, putting their bodies on the line for our country. Having our soldiers wear these jerseys and caps is the least we can do to show our support,” said Pentagon spokesperson Robert D’Amato, who announced that all active-duty soldiers would be sporting gear from all 32 teams to raise awareness of the people who put their lives aside to preserve the American way of life. “These men leave their homes and their families and travel to cities across the country to uphold our nation’s traditions. They are battered and bruised for years, their lives often cut short while we sit back in our barracks and enjoy our freedom. Some of them are never the same after they end their service, and yet we take them for granted. Hopefully, this small gesture shows that the soldiers and officers of the U.S. military know who the true heroes really are.”'"
      ]
     },
     "execution_count": 4,
     "metadata": {},
     "output_type": "execute_result"
    }
   ],
   "source": [
    "corpus.loc[10].body"
   ]
  },
  {
   "cell_type": "code",
   "execution_count": 5,
   "metadata": {},
   "outputs": [
    {
     "data": {
      "text/plain": [
       "' Indonesia will launch a renewed search effort as early as Tuesday to find the cockpit voice recorder from a Lion Air jet that crashed into the Java Sea in October, the head of its accident investigation agency said. “If the weather is good, the ship will start to depart today,” National Transporation Safety Commission (KNKT) Chief Soerjanto Tjahjono told Reuters on Tuesday. The crash, the world’s first of a Boeing Co (BA.N) 737 MAX jet and the deadliest of 2018, killed all 189 people on board. Investigators last week said they planned to use a navy ship for a fresh search for the crashed jet’s second “black box” after a 10-day effort funded by Lion Air failed to find the cockpit voice recorder (CVR). A KNKT source, speaking on condition of anonymity, told Reuters the team will have seven days using the ship KRI Spica to find the CVR, which could hold vital clues giving investigators insight into the actions of the doomed jet’s pilots. Tjahjono declined to comment on whether there was a time limit on the search. Contact with flight JT610 was lost 13 minutes after it took off on Oct. 29 from the capital Jakarta heading north to the tin-mining town of Pangkal Pinang. The other black box, the flight data recorder, was recovered three days after the crash. A preliminary report by KNKT focussed on airline maintenance and training and the response of a Boeing anti-stall system to a recently replaced sensor but did not give a cause for the crash.'"
      ]
     },
     "execution_count": 5,
     "metadata": {},
     "output_type": "execute_result"
    }
   ],
   "source": [
    "corpus.loc[502].body"
   ]
  },
  {
   "cell_type": "markdown",
   "metadata": {},
   "source": [
    "Each article in the corpus is refered to as a **document**."
   ]
  },
  {
   "cell_type": "markdown",
   "metadata": {},
   "source": [
    "It is a balanced dataset with 500 documents of each category. "
   ]
  },
  {
   "cell_type": "code",
   "execution_count": 6,
   "metadata": {},
   "outputs": [
    {
     "data": {
      "text/plain": [
       "1    500\n",
       "0    500\n",
       "Name: target, dtype: int64"
      ]
     },
     "execution_count": 6,
     "metadata": {},
     "output_type": "execute_result"
    }
   ],
   "source": [
    "corpus.target.value_counts()"
   ]
  },
  {
   "cell_type": "markdown",
   "metadata": {},
   "source": [
    "Let's think about our types of error and the use cases of being able to correctly separate satirical from authentic news. What type of error should we decide to optimize our models for?  "
   ]
  },
  {
   "cell_type": "code",
   "execution_count": 7,
   "metadata": {},
   "outputs": [
    {
     "data": {
      "text/plain": [
       "'Johnhoy'"
      ]
     },
     "execution_count": 7,
     "metadata": {},
     "output_type": "execute_result"
    }
   ],
   "source": [
    "one_random_student(mccalister)"
   ]
  },
  {
   "cell_type": "markdown",
   "metadata": {},
   "source": [
    "### Tokenization \n",
    "\n",
    "In order to convert the texts into data suitable for machine learning, we need to break down the documents into smaller parts. \n",
    "\n",
    "The first step in doing that is **tokenization**.\n",
    "\n",
    "Tokenization is the process of splitting documents into units of observations. We usually represent the tokens as __n-gram__, where n represent the consecutive words occuring in a document. In the case of unigram (one word token), the sentence \"David works here\" can be tokenized into?\n",
    "\n",
    "\"David\", \"works\", \"here\"\n",
    "\"David works\", \"works here\""
   ]
  },
  {
   "cell_type": "markdown",
   "metadata": {},
   "source": [
    "Let's consider the first document in our corpus:"
   ]
  },
  {
   "cell_type": "code",
   "execution_count": 12,
   "metadata": {},
   "outputs": [],
   "source": [
    "first_document = corpus.iloc[0].body"
   ]
  },
  {
   "cell_type": "code",
   "execution_count": 13,
   "metadata": {},
   "outputs": [
    {
     "data": {
      "text/plain": [
       "'Noting that the resignation of James Mattis as Secretary of Defense marked the ouster of the third top administration official in less than three weeks, a worried populace told reporters Friday that it was unsure how many former Trump staffers it could safely reabsorb. “Jesus, we can’t just take back these assholes all at once—we need time to process one before we get the next,” said 53-year-old Gregory Birch of Naperville, IL echoing the concerns of 323 million Americans in also noting that the country was only now truly beginning to reintegrate former national security advisor Michael Flynn. “This is just not sustainable. I’d say we can handle maybe one or two more former members of Trump’s inner circle over the remainder of the year, but that’s it. This country has its limits.” The U.S. populace confirmed that they could not handle all of these pieces of shit trying to rejoin society at once.'"
      ]
     },
     "execution_count": 13,
     "metadata": {},
     "output_type": "execute_result"
    }
   ],
   "source": [
    "first_document"
   ]
  },
  {
   "cell_type": "markdown",
   "metadata": {},
   "source": [
    "There are many ways to tokenize our document. \n",
    "\n",
    "It is a long string, so the first way we might consider is to split it by spaces."
   ]
  },
  {
   "cell_type": "code",
   "execution_count": 14,
   "metadata": {},
   "outputs": [
    {
     "name": "stdout",
     "output_type": "stream",
     "text": [
      "Jason help me split the first document by spaces\n"
     ]
    }
   ],
   "source": [
    "print(f'{one_random_student(mccalister)} help me split the first document by spaces')\n"
   ]
  },
  {
   "cell_type": "code",
   "execution_count": 15,
   "metadata": {},
   "outputs": [
    {
     "data": {
      "text/plain": [
       "['Noting',\n",
       " 'that',\n",
       " 'the',\n",
       " 'resignation',\n",
       " 'of',\n",
       " 'James',\n",
       " 'Mattis',\n",
       " 'as',\n",
       " 'Secretary',\n",
       " 'of',\n",
       " 'Defense',\n",
       " 'marked',\n",
       " 'the',\n",
       " 'ouster',\n",
       " 'of',\n",
       " 'the',\n",
       " 'third',\n",
       " 'top',\n",
       " 'administration',\n",
       " 'official',\n",
       " 'in',\n",
       " 'less',\n",
       " 'than',\n",
       " 'three',\n",
       " 'weeks,',\n",
       " 'a',\n",
       " 'worried',\n",
       " 'populace',\n",
       " 'told',\n",
       " 'reporters',\n",
       " 'Friday',\n",
       " 'that',\n",
       " 'it',\n",
       " 'was',\n",
       " 'unsure',\n",
       " 'how',\n",
       " 'many',\n",
       " 'former',\n",
       " 'Trump',\n",
       " 'staffers',\n",
       " 'it',\n",
       " 'could',\n",
       " 'safely',\n",
       " 'reabsorb.',\n",
       " '“Jesus,',\n",
       " 'we',\n",
       " 'can’t',\n",
       " 'just',\n",
       " 'take',\n",
       " 'back',\n",
       " 'these',\n",
       " 'assholes',\n",
       " 'all',\n",
       " 'at',\n",
       " 'once—we',\n",
       " 'need',\n",
       " 'time',\n",
       " 'to',\n",
       " 'process',\n",
       " 'one',\n",
       " 'before',\n",
       " 'we',\n",
       " 'get',\n",
       " 'the',\n",
       " 'next,”',\n",
       " 'said',\n",
       " '53-year-old',\n",
       " 'Gregory',\n",
       " 'Birch',\n",
       " 'of',\n",
       " 'Naperville,',\n",
       " 'IL',\n",
       " 'echoing',\n",
       " 'the',\n",
       " 'concerns',\n",
       " 'of',\n",
       " '323',\n",
       " 'million',\n",
       " 'Americans',\n",
       " 'in',\n",
       " 'also',\n",
       " 'noting',\n",
       " 'that',\n",
       " 'the',\n",
       " 'country',\n",
       " 'was',\n",
       " 'only',\n",
       " 'now',\n",
       " 'truly',\n",
       " 'beginning',\n",
       " 'to',\n",
       " 'reintegrate',\n",
       " 'former',\n",
       " 'national',\n",
       " 'security',\n",
       " 'advisor',\n",
       " 'Michael',\n",
       " 'Flynn.',\n",
       " '“This',\n",
       " 'is',\n",
       " 'just',\n",
       " 'not',\n",
       " 'sustainable.',\n",
       " 'I’d',\n",
       " 'say',\n",
       " 'we',\n",
       " 'can',\n",
       " 'handle',\n",
       " 'maybe',\n",
       " 'one',\n",
       " 'or',\n",
       " 'two',\n",
       " 'more',\n",
       " 'former',\n",
       " 'members',\n",
       " 'of',\n",
       " 'Trump’s',\n",
       " 'inner',\n",
       " 'circle',\n",
       " 'over',\n",
       " 'the',\n",
       " 'remainder',\n",
       " 'of',\n",
       " 'the',\n",
       " 'year,',\n",
       " 'but',\n",
       " 'that’s',\n",
       " 'it.',\n",
       " 'This',\n",
       " 'country',\n",
       " 'has',\n",
       " 'its',\n",
       " 'limits.”',\n",
       " 'The',\n",
       " 'U.S.',\n",
       " 'populace',\n",
       " 'confirmed',\n",
       " 'that',\n",
       " 'they',\n",
       " 'could',\n",
       " 'not',\n",
       " 'handle',\n",
       " 'all',\n",
       " 'of',\n",
       " 'these',\n",
       " 'pieces',\n",
       " 'of',\n",
       " 'shit',\n",
       " 'trying',\n",
       " 'to',\n",
       " 'rejoin',\n",
       " 'society',\n",
       " 'at',\n",
       " 'once.']"
      ]
     },
     "execution_count": 15,
     "metadata": {},
     "output_type": "execute_result"
    }
   ],
   "source": [
    "# code\n",
    "first_document.split()"
   ]
  },
  {
   "cell_type": "code",
   "execution_count": null,
   "metadata": {},
   "outputs": [],
   "source": [
    "#__SOLUTION__\n",
    "first_document.split()[:30]"
   ]
  },
  {
   "cell_type": "code",
   "execution_count": 16,
   "metadata": {},
   "outputs": [
    {
     "name": "stdout",
     "output_type": "stream",
     "text": [
      "Jacob, in creating tokens in this way, what problems do we see?\n"
     ]
    }
   ],
   "source": [
    "print(f'{one_random_student(mccalister)}, in creating tokens in this way, what problems do we see?')"
   ]
  },
  {
   "cell_type": "markdown",
   "metadata": {},
   "source": [
    "#### Chat out some problems (don't look down)"
   ]
  },
  {
   "cell_type": "markdown",
   "metadata": {},
   "source": [
    "<img src=\"https://media.giphy.com/media/ZaiC2DYDRiqhQ269nz/giphy.gif\" style=\"width:1500px;\">"
   ]
  },
  {
   "cell_type": "markdown",
   "metadata": {},
   "source": [
    "We are trying to create a set of tokens with **high semantic value**.  In other words, we want to isolate text which best represents the meaning in each document.  \n"
   ]
  },
  {
   "cell_type": "markdown",
   "metadata": {},
   "source": [
    "## Common text cleaning tasks:  \n",
    "  1. remove capitalization  \n",
    "  2. remove punctuation  \n",
    "  3. remove stopwords  \n",
    "  4. remove numbers"
   ]
  },
  {
   "cell_type": "markdown",
   "metadata": {},
   "source": [
    "We could manually perform all of these tasks with string operations"
   ]
  },
  {
   "cell_type": "markdown",
   "metadata": {},
   "source": [
    "## Capitalization"
   ]
  },
  {
   "cell_type": "markdown",
   "metadata": {},
   "source": [
    "When we create our matrix of words associated with our corpus, **capital letters** will mess things up.  The semantic value of a word used at the beginning of a sentence is the same as that same word in the middle of the sentence.  In the two sentences:\n",
    "\n",
    "sentence_one =  \"Excessive gerrymandering in small counties suppresses turnout.\"   \n",
    "sentence_two =  \"Turnout is suppressed in small counties by excessive gerrymandering.\"  \n",
    "\n",
    "Excessive has the same semantic value, but will be treated as two separate tokens because of capitals."
   ]
  },
  {
   "cell_type": "code",
   "execution_count": 17,
   "metadata": {},
   "outputs": [
    {
     "name": "stdout",
     "output_type": "stream",
     "text": [
      "Excessive excessive\n"
     ]
    },
    {
     "data": {
      "text/plain": [
       "False"
      ]
     },
     "execution_count": 17,
     "metadata": {},
     "output_type": "execute_result"
    }
   ],
   "source": [
    "sentence_one =  \"Excessive gerrymandering in small counties suppresses turnout.\" \n",
    "sentence_two =  \"Turnout is suppressed in small counties by excessive gerrymandering.\"\n",
    "\n",
    "excessive = sentence_one.split(' ')[0]\n",
    "Excessive = sentence_two.split(' ')[-2]\n",
    "print(excessive, Excessive)\n",
    "excessive == Excessive"
   ]
  },
  {
   "cell_type": "code",
   "execution_count": 18,
   "metadata": {},
   "outputs": [
    {
     "name": "stdout",
     "output_type": "stream",
     "text": [
      "Chum, \n",
      "      fill in the list comprehension below to manually\n",
      "      remove capitals from the 1st document\n"
     ]
    }
   ],
   "source": [
    "print(f'''{one_random_student(mccalister)}, \n",
    "      fill in the list comprehension below to manually\n",
    "      remove capitals from the 1st document''')"
   ]
  },
  {
   "cell_type": "code",
   "execution_count": 28,
   "metadata": {},
   "outputs": [],
   "source": [
    "manual_cleanup = [word.lower() for word in first_document.split(' ')]\n"
   ]
  },
  {
   "cell_type": "code",
   "execution_count": null,
   "metadata": {},
   "outputs": [],
   "source": [
    "#__SOLUTION__\n",
    "## Manual removal of capitals\n",
    "\n",
    "manual_cleanup = [token.lower() for token in first_document.split(' ')]\n",
    "manual_cleanup[:25]"
   ]
  },
  {
   "cell_type": "code",
   "execution_count": 20,
   "metadata": {},
   "outputs": [
    {
     "name": "stdout",
     "output_type": "stream",
     "text": [
      "Our initial token set for our first document is 154 words long\n"
     ]
    }
   ],
   "source": [
    "print(f\"Our initial token set for our first document is {len(manual_cleanup)} words long\")"
   ]
  },
  {
   "cell_type": "code",
   "execution_count": 21,
   "metadata": {},
   "outputs": [
    {
     "name": "stdout",
     "output_type": "stream",
     "text": [
      "Our initial token set for our first document has 117 unique words\n"
     ]
    }
   ],
   "source": [
    "print(f\"Our initial token set for our first document has {len(set(first_document.split()))} unique words\")"
   ]
  },
  {
   "cell_type": "code",
   "execution_count": 22,
   "metadata": {},
   "outputs": [
    {
     "name": "stdout",
     "output_type": "stream",
     "text": [
      "After remove caps, our first document has 154 unique words\n"
     ]
    }
   ],
   "source": [
    "print(f\"After remove caps, our first document has {len(set(manual_cleanup))} unique words\")"
   ]
  },
  {
   "cell_type": "markdown",
   "metadata": {},
   "source": [
    "## Punctuation"
   ]
  },
  {
   "cell_type": "markdown",
   "metadata": {},
   "source": [
    "Like capitals, splitting on white space will create tokens which include punctuation that will muck up our semantics.  \n",
    "\n",
    "Returning to the above example, 'gerrymandering' and 'gerrymandering.' will be treated as different tokens."
   ]
  },
  {
   "cell_type": "code",
   "execution_count": 23,
   "metadata": {},
   "outputs": [
    {
     "name": "stdout",
     "output_type": "stream",
     "text": [
      "gerrymandering gerrymandering.\n"
     ]
    },
    {
     "data": {
      "text/plain": [
       "False"
      ]
     },
     "execution_count": 23,
     "metadata": {},
     "output_type": "execute_result"
    }
   ],
   "source": [
    "no_punct = sentence_one.split(' ')[1]\n",
    "punct = sentence_two.split(' ')[-1]\n",
    "print(no_punct, punct)\n",
    "no_punct == punct"
   ]
  },
  {
   "cell_type": "code",
   "execution_count": 24,
   "metadata": {},
   "outputs": [
    {
     "data": {
      "text/plain": [
       "'!\"#$%&\\'()*+,-./:;<=>?@[\\\\]^_`{|}~'"
      ]
     },
     "execution_count": 24,
     "metadata": {},
     "output_type": "execute_result"
    }
   ],
   "source": [
    "## Manual removal of punctuation\n",
    "# string library!\n",
    "import string\n",
    "\n",
    "string.punctuation\n",
    "# string.ascii_letters"
   ]
  },
  {
   "cell_type": "code",
   "execution_count": 25,
   "metadata": {},
   "outputs": [
    {
     "name": "stdout",
     "output_type": "stream",
     "text": [
      "Matt, \n",
      "      fill in the nest list comprehension to remove characters\n",
      "      contained in the string.punctuation list\n"
     ]
    }
   ],
   "source": [
    "print(f'''{one_random_student(mccalister)}, \n",
    "      fill in the nest list comprehension to remove characters\n",
    "      contained in the string.punctuation list''')"
   ]
  },
  {
   "cell_type": "code",
   "execution_count": 29,
   "metadata": {},
   "outputs": [],
   "source": [
    "manual_cleanup = [''.join(ch for ch in s if ch not in string.punctuation) for s in manual_cleanup]\n"
   ]
  },
  {
   "cell_type": "code",
   "execution_count": 30,
   "metadata": {},
   "outputs": [
    {
     "data": {
      "text/plain": [
       "['noting',\n",
       " 'that',\n",
       " 'the',\n",
       " 'resignation',\n",
       " 'of',\n",
       " 'james',\n",
       " 'mattis',\n",
       " 'as',\n",
       " 'secretary',\n",
       " 'of',\n",
       " 'defense',\n",
       " 'marked',\n",
       " 'the',\n",
       " 'ouster',\n",
       " 'of',\n",
       " 'the',\n",
       " 'third',\n",
       " 'top',\n",
       " 'administration',\n",
       " 'official',\n",
       " 'in',\n",
       " 'less',\n",
       " 'than',\n",
       " 'three',\n",
       " 'weeks']"
      ]
     },
     "execution_count": 30,
     "metadata": {},
     "output_type": "execute_result"
    }
   ],
   "source": [
    "#__SOLUTION__\n",
    "manual_cleanup = [''.join(ch for ch in s if ch not in string.punctuation) for s in manual_cleanup]\n",
    "manual_cleanup[:25]"
   ]
  },
  {
   "cell_type": "code",
   "execution_count": 31,
   "metadata": {},
   "outputs": [
    {
     "name": "stdout",
     "output_type": "stream",
     "text": [
      "After removing punctuation, our first document has 114 unique words\n"
     ]
    }
   ],
   "source": [
    "print(f\"After removing punctuation, our first document has {len(set(manual_cleanup))} unique words\")"
   ]
  },
  {
   "cell_type": "markdown",
   "metadata": {},
   "source": [
    "### Stopwords"
   ]
  },
  {
   "cell_type": "markdown",
   "metadata": {},
   "source": [
    "Stopwords are the **filler** words in a language: prepositions, articles, conjunctions. They have low semantic value, and almost always need to be removed.  \n",
    "\n",
    "Luckily, NLTK has lists of stopwords ready for our use."
   ]
  },
  {
   "cell_type": "code",
   "execution_count": 39,
   "metadata": {},
   "outputs": [
    {
     "name": "stderr",
     "output_type": "stream",
     "text": [
      "[nltk_data] Downloading package stopwords to\n",
      "[nltk_data]     /Users/LeanaCritchell/nltk_data...\n",
      "[nltk_data]   Unzipping corpora/stopwords.zip.\n"
     ]
    },
    {
     "data": {
      "text/plain": [
       "{'_LazyCorpusLoader__name': 'stopwords',\n",
       " '__name__': 'stopwords',\n",
       " '_LazyCorpusLoader__reader_cls': nltk.corpus.reader.wordlist.WordListCorpusReader,\n",
       " 'subdir': 'corpora',\n",
       " '_LazyCorpusLoader__args': ('(?!README|\\\\.).*',),\n",
       " '_LazyCorpusLoader__kwargs': {'encoding': 'utf8'}}"
      ]
     },
     "execution_count": 39,
     "metadata": {},
     "output_type": "execute_result"
    }
   ],
   "source": [
    "from nltk.corpus import stopwords\n",
    "import nltk\n",
    "nltk.download('stopwords')\n",
    "stopwords.__dict__"
   ]
  },
  {
   "cell_type": "code",
   "execution_count": 44,
   "metadata": {},
   "outputs": [
    {
     "data": {
      "text/plain": [
       "['i', 'me', 'my', 'myself', 'we', 'our', 'ours', 'ourselves', 'you', \"you're\"]"
      ]
     },
     "execution_count": 44,
     "metadata": {},
     "output_type": "execute_result"
    }
   ],
   "source": [
    "stopwords.words('english')[:10]"
   ]
  },
  {
   "cell_type": "code",
   "execution_count": 41,
   "metadata": {},
   "outputs": [
    {
     "data": {
      "text/plain": [
       "['de', 'la', 'que', 'el', 'en', 'y', 'a', 'los', 'del', 'se']"
      ]
     },
     "execution_count": 41,
     "metadata": {},
     "output_type": "execute_result"
    }
   ],
   "source": [
    "stopwords.words('spanish')[:10]"
   ]
  },
  {
   "cell_type": "code",
   "execution_count": 42,
   "metadata": {},
   "outputs": [
    {
     "data": {
      "text/plain": [
       "['au', 'aux', 'avec', 'ce', 'ces', 'dans', 'de', 'des', 'du', 'elle']"
      ]
     },
     "execution_count": 42,
     "metadata": {},
     "output_type": "execute_result"
    }
   ],
   "source": [
    "stopwords.words('french')[:10]"
   ]
  },
  {
   "cell_type": "markdown",
   "metadata": {},
   "source": [
    "Let's see which stopwords are present in our first document."
   ]
  },
  {
   "cell_type": "code",
   "execution_count": 45,
   "metadata": {},
   "outputs": [
    {
     "data": {
      "text/plain": [
       "['that', 'the', 'of', 'as', 'of', 'the', 'of', 'the', 'in', 'than']"
      ]
     },
     "execution_count": 45,
     "metadata": {},
     "output_type": "execute_result"
    }
   ],
   "source": [
    "stops = [token for token in manual_cleanup if token in stopwords.words('english')]\n",
    "stops[:10]"
   ]
  },
  {
   "cell_type": "code",
   "execution_count": 46,
   "metadata": {},
   "outputs": [
    {
     "name": "stdout",
     "output_type": "stream",
     "text": [
      "There are 63 stopwords in the first document\n"
     ]
    }
   ],
   "source": [
    "print(f'There are {len(stops)} stopwords in the first document')"
   ]
  },
  {
   "cell_type": "code",
   "execution_count": 47,
   "metadata": {},
   "outputs": [
    {
     "name": "stdout",
     "output_type": "stream",
     "text": [
      "That is  40.91% of our text\n"
     ]
    }
   ],
   "source": [
    "print(f'That is {len(stops)/len(manual_cleanup): .2%} of our text')"
   ]
  },
  {
   "cell_type": "markdown",
   "metadata": {},
   "source": [
    "Let's also use the **FreqDist** tool to look at the makeup of our text before and after removal"
   ]
  },
  {
   "cell_type": "code",
   "execution_count": 48,
   "metadata": {},
   "outputs": [],
   "source": [
    "from nltk.probability import FreqDist\n",
    "import matplotlib.pyplot as plt"
   ]
  },
  {
   "cell_type": "code",
   "execution_count": 49,
   "metadata": {},
   "outputs": [
    {
     "data": {
      "image/png": "[encoded data removed]",
      "text/plain": [
       "<Figure size 720x720 with 1 Axes>"
      ]
     },
     "metadata": {
      "needs_background": "light"
     },
     "output_type": "display_data"
    },
    {
     "data": {
      "text/plain": [
       "<matplotlib.axes._subplots.AxesSubplot at 0x1a25b8f400>"
      ]
     },
     "execution_count": 49,
     "metadata": {},
     "output_type": "execute_result"
    }
   ],
   "source": [
    "fdist = FreqDist(manual_cleanup)\n",
    "plt.figure(figsize=(10,10))\n",
    "fdist.plot(30)\n"
   ]
  },
  {
   "cell_type": "code",
   "execution_count": 50,
   "metadata": {},
   "outputs": [],
   "source": [
    "manual_cleanup = [token for token in manual_cleanup if token not in stopwords.words('english')]"
   ]
  },
  {
   "cell_type": "code",
   "execution_count": 51,
   "metadata": {},
   "outputs": [
    {
     "data": {
      "text/plain": [
       "['wasn',\n",
       " \"wasn't\",\n",
       " 'weren',\n",
       " \"weren't\",\n",
       " 'won',\n",
       " \"won't\",\n",
       " 'wouldn',\n",
       " \"wouldn't\",\n",
       " \"i'd\",\n",
       " 'say']"
      ]
     },
     "execution_count": 51,
     "metadata": {},
     "output_type": "execute_result"
    }
   ],
   "source": [
    "# We can also customize our stopwords list\n",
    "\n",
    "custom_sw = stopwords.words('english')\n",
    "custom_sw.extend([\"i'd\",\"say\"] )\n",
    "custom_sw[-10:]"
   ]
  },
  {
   "cell_type": "code",
   "execution_count": 52,
   "metadata": {},
   "outputs": [],
   "source": [
    "manual_cleanup = [token for token in manual_cleanup if token not in custom_sw]\n"
   ]
  },
  {
   "cell_type": "code",
   "execution_count": 53,
   "metadata": {},
   "outputs": [
    {
     "name": "stdout",
     "output_type": "stream",
     "text": [
      "After removing stopwords, there are 82 unique words left\n"
     ]
    }
   ],
   "source": [
    "print(f'After removing stopwords, there are {len(set(manual_cleanup))} unique words left')"
   ]
  },
  {
   "cell_type": "code",
   "execution_count": 54,
   "metadata": {},
   "outputs": [
    {
     "data": {
      "image/png": "[encoded data removed]",
      "text/plain": [
       "<Figure size 720x720 with 1 Axes>"
      ]
     },
     "metadata": {
      "needs_background": "light"
     },
     "output_type": "display_data"
    },
    {
     "data": {
      "text/plain": [
       "<matplotlib.axes._subplots.AxesSubplot at 0x1a260f4668>"
      ]
     },
     "execution_count": 54,
     "metadata": {},
     "output_type": "execute_result"
    }
   ],
   "source": [
    "fdist = FreqDist(manual_cleanup)\n",
    "plt.figure(figsize=(10,10))\n",
    "fdist.plot(30)"
   ]
  },
  {
   "cell_type": "code",
   "execution_count": 55,
   "metadata": {},
   "outputs": [
    {
     "name": "stdout",
     "output_type": "stream",
     "text": [
      "Johnhoy, based on the frequency plot above, \n",
      "    add some custome stopwords to our list, and remove them from our document. \n",
      "    Print out the frequency plot to confirm they have been removed.\n"
     ]
    }
   ],
   "source": [
    "print(f'''{one_random_student(mccalister)}, based on the frequency plot above, \n",
    "    add some custome stopwords to our list, and remove them from our document. \n",
    "    Print out the frequency plot to confirm they have been removed.''')"
   ]
  },
  {
   "cell_type": "code",
   "execution_count": 56,
   "metadata": {},
   "outputs": [],
   "source": [
    "# Code\n",
    "custom_sw.extend(['could'])\n",
    "manual_cleanup = [token for token in manual_cleanup if token not in custom_sw]"
   ]
  },
  {
   "cell_type": "code",
   "execution_count": null,
   "metadata": {},
   "outputs": [],
   "source": [
    "#__SOLUTION__\n",
    "custom_sw.extend(['could', 'one'])\n",
    "manual_cleanup = [token for token in manual_cleanup if token not in custom_sw]"
   ]
  },
  {
   "cell_type": "code",
   "execution_count": 57,
   "metadata": {},
   "outputs": [
    {
     "data": {
      "image/png": "[encoded data removed]",
      "text/plain": [
       "<Figure size 720x720 with 1 Axes>"
      ]
     },
     "metadata": {
      "needs_background": "light"
     },
     "output_type": "display_data"
    },
    {
     "data": {
      "text/plain": [
       "<matplotlib.axes._subplots.AxesSubplot at 0x1a26327630>"
      ]
     },
     "execution_count": 57,
     "metadata": {},
     "output_type": "execute_result"
    }
   ],
   "source": [
    "fdist = FreqDist(manual_cleanup)\n",
    "plt.figure(figsize=(10,10))\n",
    "fdist.plot(30)"
   ]
  },
  {
   "cell_type": "markdown",
   "metadata": {},
   "source": [
    "#### Numbers\n",
    "\n",
    "Numbers also usually have low semantic value. Their removal can help improve our models. \n",
    "\n",
    "To remove them, we will use regular expressions, a powerful tool which you may already have some familiarity with.\n",
    "\n",
    "Regex allows us to match strings based on a pattern.  This pattern comes from a language of identifiers, which we can begin exploring on the cheatsheet found here:\n",
    "  -   https://regexr.com/"
   ]
  },
  {
   "cell_type": "markdown",
   "metadata": {},
   "source": [
    "A few key symbols:\n",
    "  - . : matches any character\n",
    "  - \\d, \\w, \\s : represent digit, word, whitespace  \n",
    "  - *, ?, +: matches 0 or more, 0 or 1, 1 or more of the preceding character  \n",
    "  - [A-Z]: matches any capital letter  \n",
    "  - [a-z]: matches lowercase letter  "
   ]
  },
  {
   "cell_type": "markdown",
   "metadata": {},
   "source": [
    "Other helpful resources:\n",
    "  - https://regexcrossword.com/\n",
    "  - https://www.regular-expressions.info/tutorial.html"
   ]
  },
  {
   "cell_type": "markdown",
   "metadata": {},
   "source": [
    "We can use regex to isolate numbers\n",
    "\n"
   ]
  },
  {
   "cell_type": "markdown",
   "metadata": {},
   "source": [
    "# Individual Code Exercise:  \n",
    "Individually, test out different regex patterns to isolate numerical values in the first document.\n"
   ]
  },
  {
   "cell_type": "code",
   "execution_count": 58,
   "metadata": {},
   "outputs": [
    {
     "data": {
      "text/plain": [
       "'Noting that the resignation of James Mattis as Secretary of Defense marked the ouster of the third top administration official in less than three weeks, a worried populace told reporters Friday that it was unsure how many former Trump staffers it could safely reabsorb. “Jesus, we can’t just take back these assholes all at once—we need time to process one before we get the next,” said 53-year-old Gregory Birch of Naperville, IL echoing the concerns of 323 million Americans in also noting that the country was only now truly beginning to reintegrate former national security advisor Michael Flynn. “This is just not sustainable. I’d say we can handle maybe one or two more former members of Trump’s inner circle over the remainder of the year, but that’s it. This country has its limits.” The U.S. populace confirmed that they could not handle all of these pieces of shit trying to rejoin society at once.'"
      ]
     },
     "execution_count": 58,
     "metadata": {},
     "output_type": "execute_result"
    }
   ],
   "source": [
    "first_document"
   ]
  },
  {
   "cell_type": "code",
   "execution_count": 59,
   "metadata": {},
   "outputs": [
    {
     "data": {
      "text/plain": [
       "[]"
      ]
     },
     "execution_count": 59,
     "metadata": {},
     "output_type": "execute_result"
    }
   ],
   "source": [
    "import re\n",
    "pattern = 'a regex pattern'\n",
    "number = re.findall( pattern, first_document)\n",
    "number"
   ]
  },
  {
   "cell_type": "code",
   "execution_count": 60,
   "metadata": {},
   "outputs": [],
   "source": [
    "pattern = '\\d+'\n",
    "number = re.findall(pattern, first_document)"
   ]
  },
  {
   "cell_type": "code",
   "execution_count": null,
   "metadata": {},
   "outputs": [],
   "source": [
    "#__SOLUTION__\n",
    "import re\n",
    "\n",
    "# 1 or more digits\n",
    "pattern = '\\d+'\n",
    "\n",
    "number = re.findall( pattern, first_document)\n",
    "number"
   ]
  },
  {
   "cell_type": "code",
   "execution_count": 61,
   "metadata": {},
   "outputs": [
    {
     "data": {
      "text/plain": [
       "['53', '323']"
      ]
     },
     "execution_count": 61,
     "metadata": {},
     "output_type": "execute_result"
    }
   ],
   "source": [
    "number"
   ]
  },
  {
   "cell_type": "markdown",
   "metadata": {},
   "source": [
    "Sklearn and NLTK provide us with a suite of **tokenizers** for our text preprocessing convenience."
   ]
  },
  {
   "cell_type": "code",
   "execution_count": 62,
   "metadata": {},
   "outputs": [],
   "source": [
    "import nltk\n",
    "from nltk.tokenize import regexp_tokenize, word_tokenize, RegexpTokenizer\n"
   ]
  },
  {
   "cell_type": "code",
   "execution_count": 63,
   "metadata": {},
   "outputs": [
    {
     "data": {
      "text/plain": [
       "'Noting that the resignation of James Mattis as Secretary of Defense marked the ouster of the third top administration official in less than three weeks, a worried populace told reporters Friday that it was unsure how many former Trump staffers it could safely reabsorb. “Jesus, we can’t just take back these assholes all at once—we need time to process one before we get the next,” said 53-year-old Gregory Birch of Naperville, IL echoing the concerns of 323 million Americans in also noting that the country was only now truly beginning to reintegrate former national security advisor Michael Flynn. “This is just not sustainable. I’d say we can handle maybe one or two more former members of Trump’s inner circle over the remainder of the year, but that’s it. This country has its limits.” The U.S. populace confirmed that they could not handle all of these pieces of shit trying to rejoin society at once.'"
      ]
     },
     "execution_count": 63,
     "metadata": {},
     "output_type": "execute_result"
    }
   ],
   "source": [
    "first_document"
   ]
  },
  {
   "cell_type": "code",
   "execution_count": 64,
   "metadata": {},
   "outputs": [
    {
     "data": {
      "text/plain": [
       "[\"I'd\"]"
      ]
     },
     "execution_count": 64,
     "metadata": {},
     "output_type": "execute_result"
    }
   ],
   "source": [
    "import re\n",
    "re.findall(r\"([a-zA-Z]+(?:'[a-z]+)?)\" , \"I'd\")"
   ]
  },
  {
   "cell_type": "code",
   "execution_count": 65,
   "metadata": {},
   "outputs": [
    {
     "data": {
      "text/plain": [
       "'administration'"
      ]
     },
     "execution_count": 65,
     "metadata": {},
     "output_type": "execute_result"
    }
   ],
   "source": [
    "pattern = \"([a-zA-Z]+(?:'[a-z]+)?)\"\n",
    "tokenizer = RegexpTokenizer(r\"([a-zA-Z]+(?:[’'][a-z]+)?)\")\n",
    "first_doc = tokenizer.tokenize(first_document)\n",
    "first_doc = [token.lower() for token in first_doc]\n",
    "first_doc = [token for token in first_doc if token not in custom_sw]\n",
    "first_doc[10]"
   ]
  },
  {
   "cell_type": "code",
   "execution_count": 66,
   "metadata": {},
   "outputs": [
    {
     "name": "stdout",
     "output_type": "stream",
     "text": [
      "We are down to 78 unique words\n"
     ]
    }
   ],
   "source": [
    "print(f'We are down to {len(set(first_doc))} unique words')"
   ]
  },
  {
   "cell_type": "markdown",
   "metadata": {},
   "source": [
    "# Stemming"
   ]
  },
  {
   "cell_type": "markdown",
   "metadata": {},
   "source": [
    "Most of the semantic meaning of a word is held in the root, which is usually the beginning of a word.  Conjugations and plurality do not change the semantic meaning. \"eat\", \"eats\", and \"eating\" all have essentially the same meaning packed into eat.   \n",
    "\n",
    "Stemmers consolidate similar words by chopping off the ends of the words."
   ]
  },
  {
   "cell_type": "markdown",
   "metadata": {},
   "source": [
    "![stemmer](img/stemmer.png)"
   ]
  },
  {
   "cell_type": "markdown",
   "metadata": {},
   "source": [
    "There are different stemmers available.  The two we will use here are the **Porter** and **Snowball** stemmers.  A main difference between the two is how agressively it stems, Porter being less agressive."
   ]
  },
  {
   "cell_type": "code",
   "execution_count": 67,
   "metadata": {},
   "outputs": [],
   "source": [
    "from nltk.stem import *\n",
    "\n",
    "p_stemmer = PorterStemmer()\n",
    "s_stemmer = SnowballStemmer(language=\"english\")"
   ]
  },
  {
   "cell_type": "code",
   "execution_count": 72,
   "metadata": {},
   "outputs": [
    {
     "data": {
      "text/plain": [
       "'resignation'"
      ]
     },
     "execution_count": 72,
     "metadata": {},
     "output_type": "execute_result"
    }
   ],
   "source": [
    "first_doc[1]"
   ]
  },
  {
   "cell_type": "code",
   "execution_count": 73,
   "metadata": {},
   "outputs": [
    {
     "data": {
      "text/plain": [
       "'resign'"
      ]
     },
     "execution_count": 73,
     "metadata": {},
     "output_type": "execute_result"
    }
   ],
   "source": [
    "p_stemmer.stem(first_doc[1])"
   ]
  },
  {
   "cell_type": "code",
   "execution_count": 74,
   "metadata": {},
   "outputs": [
    {
     "data": {
      "text/plain": [
       "'resign'"
      ]
     },
     "execution_count": 74,
     "metadata": {},
     "output_type": "execute_result"
    }
   ],
   "source": [
    "s_stemmer.stem(first_doc[1])"
   ]
  },
  {
   "cell_type": "code",
   "execution_count": 75,
   "metadata": {},
   "outputs": [
    {
     "name": "stdout",
     "output_type": "stream",
     "text": [
      "jesu jesus\n",
      "can’t can't\n",
      "napervil napervill\n",
      "i’d i'd\n",
      "trump’ trump\n",
      "that’ that\n"
     ]
    }
   ],
   "source": [
    "for word in first_doc:\n",
    "    p_word = p_stemmer.stem(word)\n",
    "    s_word = s_stemmer.stem(word)\n",
    "    \n",
    "    if p_word != s_word:\n",
    "        print(p_word, s_word)\n",
    "    "
   ]
  },
  {
   "cell_type": "code",
   "execution_count": 76,
   "metadata": {},
   "outputs": [],
   "source": [
    "first_doc = [p_stemmer.stem(word) for word in first_doc]"
   ]
  },
  {
   "cell_type": "code",
   "execution_count": 77,
   "metadata": {},
   "outputs": [
    {
     "data": {
      "image/png": "[encoded data removed]",
      "text/plain": [
       "<Figure size 720x720 with 1 Axes>"
      ]
     },
     "metadata": {
      "needs_background": "light"
     },
     "output_type": "display_data"
    },
    {
     "data": {
      "text/plain": [
       "<matplotlib.axes._subplots.AxesSubplot at 0x1a264533c8>"
      ]
     },
     "execution_count": 77,
     "metadata": {},
     "output_type": "execute_result"
    }
   ],
   "source": [
    "fdist = FreqDist(first_doc)\n",
    "plt.figure(figsize=(10,10))\n",
    "fdist.plot(30)"
   ]
  },
  {
   "cell_type": "code",
   "execution_count": 78,
   "metadata": {},
   "outputs": [
    {
     "name": "stdout",
     "output_type": "stream",
     "text": [
      "Stemming did not reduce our token count: 78 unique tokens\n"
     ]
    }
   ],
   "source": [
    "print(f'Stemming did not reduce our token count: {len(set(first_doc))} unique tokens')"
   ]
  },
  {
   "cell_type": "markdown",
   "metadata": {},
   "source": [
    "# Lemming"
   ]
  },
  {
   "cell_type": "markdown",
   "metadata": {},
   "source": [
    "Lemming is a bit more sophisticated that the stem choppers.  Lemming uses part of speech tagging to determine how to transform a word.  In that \n",
    "Lemmatization returns real words. For example, instead of returning \"movi\" like Porter stemmer would, \"movie\" will be returned by the lemmatizer.\n",
    "\n",
    "- Unlike Stemming, Lemmatization reduces the inflected words properly ensuring that the root word belongs to the language.  It can handle words such as \"mouse\", whose plural \"mice\" the stemmers would not lump together with the original. \n",
    "\n",
    "- In Lemmatization, the root word is called Lemma. \n",
    "\n",
    "- A lemma (plural lemmas or lemmata) is the canonical form, dictionary form, or citation form of a set of words.\n",
    "\n",
    "![lemmer](img/lemmer.png)\n"
   ]
  },
  {
   "cell_type": "code",
   "execution_count": 89,
   "metadata": {},
   "outputs": [
    {
     "name": "stderr",
     "output_type": "stream",
     "text": [
      "[nltk_data] Downloading package wordnet to\n",
      "[nltk_data]     /Users/LeanaCritchell/nltk_data...\n",
      "[nltk_data]   Unzipping corpora/wordnet.zip.\n"
     ]
    }
   ],
   "source": [
    "from nltk.stem import WordNetLemmatizer \n",
    "import nltk\n",
    "nltk.download('wordnet')\n",
    "lemmatizer = WordNetLemmatizer() \n"
   ]
  },
  {
   "cell_type": "code",
   "execution_count": 90,
   "metadata": {},
   "outputs": [
    {
     "name": "stdout",
     "output_type": "stream",
     "text": [
      "Mice becomes: mouse\n",
      "Noting becomes: noting\n"
     ]
    }
   ],
   "source": [
    "print(f'Mice becomes: {lemmatizer.lemmatize(\"mice\")}')\n",
    "print(f'Noting becomes: {lemmatizer.lemmatize(first_doc[0])}')"
   ]
  },
  {
   "cell_type": "code",
   "execution_count": 91,
   "metadata": {},
   "outputs": [
    {
     "data": {
      "text/plain": [
       "['He', 'saw', 'the', 'tree', 'get', 'sawed', 'down']"
      ]
     },
     "execution_count": 91,
     "metadata": {},
     "output_type": "execute_result"
    }
   ],
   "source": [
    "# However, look at the output below:\n",
    "    \n",
    "sentence = \"He saw the trees get sawed down\"\n",
    "lemmed_sentence = [lemmatizer.lemmatize(token) for token in sentence.split(' ')]\n",
    "lemmed_sentence"
   ]
  },
  {
   "cell_type": "code",
   "execution_count": 92,
   "metadata": {},
   "outputs": [
    {
     "data": {
      "text/plain": [
       "'Adam'"
      ]
     },
     "execution_count": 92,
     "metadata": {},
     "output_type": "execute_result"
    }
   ],
   "source": [
    "one_random_student(mccalister)\n",
    "# What should have changed form but didn't?"
   ]
  },
  {
   "cell_type": "markdown",
   "metadata": {},
   "source": [
    "Lemmatizers depend on POS tagging, and defaults to noun."
   ]
  },
  {
   "cell_type": "code",
   "execution_count": 93,
   "metadata": {},
   "outputs": [
    {
     "data": {
      "text/plain": [
       "'Dann'"
      ]
     },
     "execution_count": 93,
     "metadata": {},
     "output_type": "execute_result"
    }
   ],
   "source": [
    "one_random_student(mccalister)\n",
    "# What do you think will happen if we feed another POS to saw?"
   ]
  },
  {
   "cell_type": "markdown",
   "metadata": {},
   "source": [
    "With a little bit of work, we can POS tag our text."
   ]
  },
  {
   "cell_type": "code",
   "execution_count": 94,
   "metadata": {},
   "outputs": [
    {
     "data": {
      "text/plain": [
       "'Noting that the resignation of James Mattis as Secretary of Defense marked the ouster of the third top administration official in less than three weeks, a worried populace told reporters Friday that it was unsure how many former Trump staffers it could safely reabsorb. “Jesus, we can’t just take back these assholes all at once—we need time to process one before we get the next,” said 53-year-old Gregory Birch of Naperville, IL echoing the concerns of 323 million Americans in also noting that the country was only now truly beginning to reintegrate former national security advisor Michael Flynn. “This is just not sustainable. I’d say we can handle maybe one or two more former members of Trump’s inner circle over the remainder of the year, but that’s it. This country has its limits.” The U.S. populace confirmed that they could not handle all of these pieces of shit trying to rejoin society at once.'"
      ]
     },
     "execution_count": 94,
     "metadata": {},
     "output_type": "execute_result"
    }
   ],
   "source": [
    "pattern = \"([a-zA-Z]+(?:'[a-z]+)?)\"\n",
    "tokenizer = RegexpTokenizer(r\"([a-zA-Z]+(?:[’'][a-z]+)?)\")\n",
    "first_doc = tokenizer.tokenize(first_document)\n",
    "first_doc = [token.lower() for token in first_doc]\n",
    "first_doc = [token for token in first_doc if token not in custom_sw]\n",
    "corpus.loc[0].body"
   ]
  },
  {
   "cell_type": "code",
   "execution_count": 95,
   "metadata": {},
   "outputs": [
    {
     "name": "stdout",
     "output_type": "stream",
     "text": [
      "$: dollar\n",
      "    $ -$ --$ A$ C$ HK$ M$ NZ$ S$ U.S.$ US$\n",
      "'': closing quotation mark\n",
      "    ' ''\n",
      "(: opening parenthesis\n",
      "    ( [ {\n",
      "): closing parenthesis\n",
      "    ) ] }\n",
      ",: comma\n",
      "    ,\n",
      "--: dash\n",
      "    --\n",
      ".: sentence terminator\n",
      "    . ! ?\n",
      ":: colon or ellipsis\n",
      "    : ; ...\n",
      "CC: conjunction, coordinating\n",
      "    & 'n and both but either et for less minus neither nor or plus so\n",
      "    therefore times v. versus vs. whether yet\n",
      "CD: numeral, cardinal\n",
      "    mid-1890 nine-thirty forty-two one-tenth ten million 0.5 one forty-\n",
      "    seven 1987 twenty '79 zero two 78-degrees eighty-four IX '60s .025\n",
      "    fifteen 271,124 dozen quintillion DM2,000 ...\n",
      "DT: determiner\n",
      "    all an another any both del each either every half la many much nary\n",
      "    neither no some such that the them these this those\n",
      "EX: existential there\n",
      "    there\n",
      "FW: foreign word\n",
      "    gemeinschaft hund ich jeux habeas Haementeria Herr K'ang-si vous\n",
      "    lutihaw alai je jour objets salutaris fille quibusdam pas trop Monte\n",
      "    terram fiche oui corporis ...\n",
      "IN: preposition or conjunction, subordinating\n",
      "    astride among uppon whether out inside pro despite on by throughout\n",
      "    below within for towards near behind atop around if like until below\n",
      "    next into if beside ...\n",
      "JJ: adjective or numeral, ordinal\n",
      "    third ill-mannered pre-war regrettable oiled calamitous first separable\n",
      "    ectoplasmic battery-powered participatory fourth still-to-be-named\n",
      "    multilingual multi-disciplinary ...\n",
      "JJR: adjective, comparative\n",
      "    bleaker braver breezier briefer brighter brisker broader bumper busier\n",
      "    calmer cheaper choosier cleaner clearer closer colder commoner costlier\n",
      "    cozier creamier crunchier cuter ...\n",
      "JJS: adjective, superlative\n",
      "    calmest cheapest choicest classiest cleanest clearest closest commonest\n",
      "    corniest costliest crassest creepiest crudest cutest darkest deadliest\n",
      "    dearest deepest densest dinkiest ...\n",
      "LS: list item marker\n",
      "    A A. B B. C C. D E F First G H I J K One SP-44001 SP-44002 SP-44005\n",
      "    SP-44007 Second Third Three Two * a b c d first five four one six three\n",
      "    two\n",
      "MD: modal auxiliary\n",
      "    can cannot could couldn't dare may might must need ought shall should\n",
      "    shouldn't will would\n",
      "NN: noun, common, singular or mass\n",
      "    common-carrier cabbage knuckle-duster Casino afghan shed thermostat\n",
      "    investment slide humour falloff slick wind hyena override subhumanity\n",
      "    machinist ...\n",
      "NNP: noun, proper, singular\n",
      "    Motown Venneboerger Czestochwa Ranzer Conchita Trumplane Christos\n",
      "    Oceanside Escobar Kreisler Sawyer Cougar Yvette Ervin ODI Darryl CTCA\n",
      "    Shannon A.K.C. Meltex Liverpool ...\n",
      "NNPS: noun, proper, plural\n",
      "    Americans Americas Amharas Amityvilles Amusements Anarcho-Syndicalists\n",
      "    Andalusians Andes Andruses Angels Animals Anthony Antilles Antiques\n",
      "    Apache Apaches Apocrypha ...\n",
      "NNS: noun, common, plural\n",
      "    undergraduates scotches bric-a-brac products bodyguards facets coasts\n",
      "    divestitures storehouses designs clubs fragrances averages\n",
      "    subjectivists apprehensions muses factory-jobs ...\n",
      "PDT: pre-determiner\n",
      "    all both half many quite such sure this\n",
      "POS: genitive marker\n",
      "    ' 's\n",
      "PRP: pronoun, personal\n",
      "    hers herself him himself hisself it itself me myself one oneself ours\n",
      "    ourselves ownself self she thee theirs them themselves they thou thy us\n",
      "PRP$: pronoun, possessive\n",
      "    her his mine my our ours their thy your\n",
      "RB: adverb\n",
      "    occasionally unabatingly maddeningly adventurously professedly\n",
      "    stirringly prominently technologically magisterially predominately\n",
      "    swiftly fiscally pitilessly ...\n",
      "RBR: adverb, comparative\n",
      "    further gloomier grander graver greater grimmer harder harsher\n",
      "    healthier heavier higher however larger later leaner lengthier less-\n",
      "    perfectly lesser lonelier longer louder lower more ...\n",
      "RBS: adverb, superlative\n",
      "    best biggest bluntest earliest farthest first furthest hardest\n",
      "    heartiest highest largest least less most nearest second tightest worst\n",
      "RP: particle\n",
      "    aboard about across along apart around aside at away back before behind\n",
      "    by crop down ever fast for forth from go high i.e. in into just later\n",
      "    low more off on open out over per pie raising start teeth that through\n",
      "    under unto up up-pp upon whole with you\n",
      "SYM: symbol\n",
      "    % & ' '' ''. ) ). * + ,. < = > @ A[fj] U.S U.S.S.R * ** ***\n",
      "TO: \"to\" as preposition or infinitive marker\n",
      "    to\n",
      "UH: interjection\n",
      "    Goodbye Goody Gosh Wow Jeepers Jee-sus Hubba Hey Kee-reist Oops amen\n",
      "    huh howdy uh dammit whammo shucks heck anyways whodunnit honey golly\n",
      "    man baby diddle hush sonuvabitch ...\n",
      "VB: verb, base form\n",
      "    ask assemble assess assign assume atone attention avoid bake balkanize\n",
      "    bank begin behold believe bend benefit bevel beware bless boil bomb\n",
      "    boost brace break bring broil brush build ...\n",
      "VBD: verb, past tense\n",
      "    dipped pleaded swiped regummed soaked tidied convened halted registered\n",
      "    cushioned exacted snubbed strode aimed adopted belied figgered\n",
      "    speculated wore appreciated contemplated ...\n",
      "VBG: verb, present participle or gerund\n",
      "    telegraphing stirring focusing angering judging stalling lactating\n",
      "    hankerin' alleging veering capping approaching traveling besieging\n",
      "    encrypting interrupting erasing wincing ...\n",
      "VBN: verb, past participle\n",
      "    multihulled dilapidated aerosolized chaired languished panelized used\n",
      "    experimented flourished imitated reunifed factored condensed sheared\n",
      "    unsettled primed dubbed desired ...\n",
      "VBP: verb, present tense, not 3rd person singular\n",
      "    predominate wrap resort sue twist spill cure lengthen brush terminate\n",
      "    appear tend stray glisten obtain comprise detest tease attract\n",
      "    emphasize mold postpone sever return wag ...\n",
      "VBZ: verb, present tense, 3rd person singular\n",
      "    bases reconstructs marks mixes displeases seals carps weaves snatches\n",
      "    slumps stretches authorizes smolders pictures emerges stockpiles\n",
      "    seduces fizzes uses bolsters slaps speaks pleads ...\n",
      "WDT: WH-determiner\n",
      "    that what whatever which whichever\n",
      "WP: WH-pronoun\n",
      "    that what whatever whatsoever which who whom whosoever\n",
      "WP$: WH-pronoun, possessive\n",
      "    whose\n",
      "WRB: Wh-adverb\n",
      "    how however whence whenever where whereby whereever wherein whereof why\n",
      "``: opening quotation mark\n",
      "    ` ``\n"
     ]
    },
    {
     "name": "stderr",
     "output_type": "stream",
     "text": [
      "[nltk_data] Downloading package tagsets to\n",
      "[nltk_data]     /Users/LeanaCritchell/nltk_data...\n",
      "[nltk_data]   Package tagsets is already up-to-date!\n"
     ]
    }
   ],
   "source": [
    "nltk.download('tagsets')\n",
    "nltk.help.upenn_tagset()"
   ]
  },
  {
   "cell_type": "code",
   "execution_count": 97,
   "metadata": {},
   "outputs": [
    {
     "name": "stderr",
     "output_type": "stream",
     "text": [
      "[nltk_data] Downloading package averaged_perceptron_tagger to\n",
      "[nltk_data]     /Users/LeanaCritchell/nltk_data...\n",
      "[nltk_data]   Unzipping taggers/averaged_perceptron_tagger.zip.\n"
     ]
    },
    {
     "data": {
      "text/plain": [
       "[('noting', 'VBG'),\n",
       " ('resignation', 'NN'),\n",
       " ('james', 'NNS'),\n",
       " ('mattis', 'VBP'),\n",
       " ('secretary', 'NN'),\n",
       " ('defense', 'NN'),\n",
       " ('marked', 'VBD'),\n",
       " ('ouster', 'JJ'),\n",
       " ('third', 'JJ'),\n",
       " ('top', 'JJ'),\n",
       " ('administration', 'NN'),\n",
       " ('official', 'NN'),\n",
       " ('less', 'JJR'),\n",
       " ('three', 'CD'),\n",
       " ('weeks', 'NNS'),\n",
       " ('worried', 'VBD'),\n",
       " ('populace', 'NN'),\n",
       " ('told', 'VBD'),\n",
       " ('reporters', 'NNS'),\n",
       " ('friday', 'JJ'),\n",
       " ('unsure', 'JJ'),\n",
       " ('many', 'JJ'),\n",
       " ('former', 'JJ'),\n",
       " ('trump', 'NN'),\n",
       " ('staffers', 'NNS'),\n",
       " ('safely', 'RB'),\n",
       " ('reabsorb', 'VBP'),\n",
       " ('jesus', 'NN'),\n",
       " ('can’t', 'NNS'),\n",
       " ('take', 'VBP'),\n",
       " ('back', 'RP'),\n",
       " ('assholes', 'NNS'),\n",
       " ('need', 'VBP'),\n",
       " ('time', 'NN'),\n",
       " ('process', 'NN'),\n",
       " ('one', 'CD'),\n",
       " ('get', 'NN'),\n",
       " ('next', 'IN'),\n",
       " ('said', 'VBD'),\n",
       " ('year', 'NN'),\n",
       " ('old', 'JJ'),\n",
       " ('gregory', 'NN'),\n",
       " ('birch', 'NN'),\n",
       " ('naperville', 'FW'),\n",
       " ('il', 'NN'),\n",
       " ('echoing', 'VBG'),\n",
       " ('concerns', 'NNS'),\n",
       " ('million', 'CD'),\n",
       " ('americans', 'NNS'),\n",
       " ('also', 'RB'),\n",
       " ('noting', 'VBG'),\n",
       " ('country', 'NN'),\n",
       " ('truly', 'RB'),\n",
       " ('beginning', 'VBG'),\n",
       " ('reintegrate', 'VB'),\n",
       " ('former', 'JJ'),\n",
       " ('national', 'JJ'),\n",
       " ('security', 'NN'),\n",
       " ('advisor', 'NN'),\n",
       " ('michael', 'NN'),\n",
       " ('flynn', 'VBP'),\n",
       " ('sustainable', 'JJ'),\n",
       " ('i’d', 'NN'),\n",
       " ('handle', 'NN'),\n",
       " ('maybe', 'RB'),\n",
       " ('one', 'CD'),\n",
       " ('two', 'CD'),\n",
       " ('former', 'JJ'),\n",
       " ('members', 'NNS'),\n",
       " ('trump’s', 'VBP'),\n",
       " ('inner', 'JJ'),\n",
       " ('circle', 'NN'),\n",
       " ('remainder', 'NN'),\n",
       " ('year', 'NN'),\n",
       " ('that’s', 'JJ'),\n",
       " ('country', 'NN'),\n",
       " ('limits', 'NNS'),\n",
       " ('u', 'JJ'),\n",
       " ('populace', 'NN'),\n",
       " ('confirmed', 'VBD'),\n",
       " ('handle', 'JJ'),\n",
       " ('pieces', 'NNS'),\n",
       " ('shit', 'VBD'),\n",
       " ('trying', 'VBG'),\n",
       " ('rejoin', 'NN'),\n",
       " ('society', 'NN')]"
      ]
     },
     "execution_count": 97,
     "metadata": {},
     "output_type": "execute_result"
    }
   ],
   "source": [
    "from nltk import pos_tag\n",
    "import nltk\n",
    "nltk.download('averaged_perceptron_tagger')\n",
    "# Use nltk's pos_tag to tag our words\n",
    "# Does a pretty good job, but does make some mistakes\n",
    "first_doc_tagged = pos_tag(first_doc)\n",
    "first_doc_tagged"
   ]
  },
  {
   "cell_type": "code",
   "execution_count": 98,
   "metadata": {},
   "outputs": [],
   "source": [
    "# Then transform the tags into the tags of our lemmatizers\n",
    "from nltk.corpus import wordnet\n",
    "\n",
    "def get_wordnet_pos(treebank_tag):\n",
    "    '''\n",
    "    Translate nltk POS to wordnet tags\n",
    "    '''\n",
    "    if treebank_tag.startswith('J'):\n",
    "        return wordnet.ADJ\n",
    "    elif treebank_tag.startswith('V'):\n",
    "        return wordnet.VERB\n",
    "    elif treebank_tag.startswith('N'):\n",
    "        return wordnet.NOUN\n",
    "    elif treebank_tag.startswith('R'):\n",
    "        return wordnet.ADV\n",
    "    else:\n",
    "        return wordnet.NOUN"
   ]
  },
  {
   "cell_type": "code",
   "execution_count": 99,
   "metadata": {},
   "outputs": [],
   "source": [
    "first_doc_tagged = [(token[0], get_wordnet_pos(token[1]))\n",
    "             for token in first_doc_tagged]"
   ]
  },
  {
   "cell_type": "code",
   "execution_count": 100,
   "metadata": {},
   "outputs": [],
   "source": [
    "first_doc_lemmed = [lemmatizer.lemmatize(token[0], token[1]) for token in first_doc_tagged]"
   ]
  },
  {
   "cell_type": "code",
   "execution_count": 101,
   "metadata": {},
   "outputs": [
    {
     "data": {
      "text/plain": [
       "['note',\n",
       " 'resignation',\n",
       " 'james',\n",
       " 'mattis',\n",
       " 'secretary',\n",
       " 'defense',\n",
       " 'mark',\n",
       " 'ouster',\n",
       " 'third',\n",
       " 'top']"
      ]
     },
     "execution_count": 101,
     "metadata": {},
     "output_type": "execute_result"
    }
   ],
   "source": [
    "first_doc_lemmed[:10]"
   ]
  },
  {
   "cell_type": "code",
   "execution_count": 102,
   "metadata": {},
   "outputs": [
    {
     "name": "stdout",
     "output_type": "stream",
     "text": [
      "There are 78 unique lemmas\n"
     ]
    }
   ],
   "source": [
    "print(f'There are {len(set(first_doc_lemmed))} unique lemmas')"
   ]
  },
  {
   "cell_type": "code",
   "execution_count": 103,
   "metadata": {},
   "outputs": [
    {
     "data": {
      "image/png": "[encoded data removed]",
      "text/plain": [
       "<Figure size 720x720 with 1 Axes>"
      ]
     },
     "metadata": {
      "needs_background": "light"
     },
     "output_type": "display_data"
    },
    {
     "data": {
      "text/plain": [
       "<matplotlib.axes._subplots.AxesSubplot at 0x1a26165160>"
      ]
     },
     "execution_count": 103,
     "metadata": {},
     "output_type": "execute_result"
    }
   ],
   "source": [
    "fdist = FreqDist(first_doc_lemmed)\n",
    "plt.figure(figsize=(10,10))\n",
    "fdist.plot(30)"
   ]
  },
  {
   "cell_type": "markdown",
   "metadata": {},
   "source": [
    "## Part 3. Feature Engineering for NLP \n",
    "The machine learning algorithms we have encountered so far represent features as the variables that take on different value for each observation. For example, we represent individual with distinct education level, income, and such. However, in NLP, features are represented in very different way. In order to pass text data to machine learning algorithm and perform classification, we need to represent the features in a sensible way. One such method is called **Bag-of-words (BoW)**. "
   ]
  },
  {
   "cell_type": "markdown",
   "metadata": {},
   "source": [
    "A bag-of-words model, or BoW for short, is a way of extracting features from text for use in modeling. A bag-of-words is a representation of text that describes the occurrence of words within a document. It involves two things:\n",
    "\n",
    "- A vocabulary of known words.\n",
    "- A measure of the presence of known words.\n",
    "\n",
    "It is called a “bag” of words, because any information about the order or structure of words in the document is discarded. The model is only concerned with whether known words occur in the document, not where in the document. The intuition behind BoW is that a document is similar to another if they have similar contents. Bag of Words method can be represented as **Document Term Matrix**, or Term Document Matrix, in which each column is an unique vocabulary, each observation is a document. For example:"
   ]
  },
  {
   "cell_type": "markdown",
   "metadata": {},
   "source": [
    "- Document 1: \"I love dogs\"\n",
    "- Document 2: \"I love cats\"\n",
    "- Document 3: \"I love all animals\"\n",
    "- Document 4: \"I hate dogs\"\n",
    "\n",
    "\n",
    "Can be represented as:"
   ]
  },
  {
   "cell_type": "markdown",
   "metadata": {},
   "source": [
    "![document term matrix](img/document_term_matrix.png)"
   ]
  },
  {
   "cell_type": "code",
   "execution_count": 104,
   "metadata": {},
   "outputs": [
    {
     "data": {
      "text/html": [
       "<div>\n",
       "<style scoped>\n",
       "    .dataframe tbody tr th:only-of-type {\n",
       "        vertical-align: middle;\n",
       "    }\n",
       "\n",
       "    .dataframe tbody tr th {\n",
       "        vertical-align: top;\n",
       "    }\n",
       "\n",
       "    .dataframe thead th {\n",
       "        text-align: right;\n",
       "    }\n",
       "</style>\n",
       "<table border=\"1\" class=\"dataframe\">\n",
       "  <thead>\n",
       "    <tr style=\"text-align: right;\">\n",
       "      <th></th>\n",
       "      <th>administration</th>\n",
       "      <th>advisor</th>\n",
       "      <th>also</th>\n",
       "      <th>american</th>\n",
       "      <th>asshole</th>\n",
       "      <th>back</th>\n",
       "      <th>begin</th>\n",
       "      <th>birch</th>\n",
       "      <th>can</th>\n",
       "      <th>circle</th>\n",
       "      <th>...</th>\n",
       "      <th>time</th>\n",
       "      <th>top</th>\n",
       "      <th>truly</th>\n",
       "      <th>trump</th>\n",
       "      <th>try</th>\n",
       "      <th>two</th>\n",
       "      <th>unsure</th>\n",
       "      <th>week</th>\n",
       "      <th>worry</th>\n",
       "      <th>year</th>\n",
       "    </tr>\n",
       "  </thead>\n",
       "  <tbody>\n",
       "    <tr>\n",
       "      <td>0</td>\n",
       "      <td>1</td>\n",
       "      <td>1</td>\n",
       "      <td>1</td>\n",
       "      <td>1</td>\n",
       "      <td>1</td>\n",
       "      <td>1</td>\n",
       "      <td>1</td>\n",
       "      <td>1</td>\n",
       "      <td>1</td>\n",
       "      <td>1</td>\n",
       "      <td>...</td>\n",
       "      <td>1</td>\n",
       "      <td>1</td>\n",
       "      <td>1</td>\n",
       "      <td>2</td>\n",
       "      <td>1</td>\n",
       "      <td>1</td>\n",
       "      <td>1</td>\n",
       "      <td>1</td>\n",
       "      <td>1</td>\n",
       "      <td>2</td>\n",
       "    </tr>\n",
       "  </tbody>\n",
       "</table>\n",
       "<p>1 rows × 75 columns</p>\n",
       "</div>"
      ],
      "text/plain": [
       "   administration  advisor  also  american  asshole  back  begin  birch  can  \\\n",
       "0               1        1     1         1        1     1      1      1    1   \n",
       "\n",
       "   circle  ...  time  top  truly  trump  try  two  unsure  week  worry  year  \n",
       "0       1  ...     1    1      1      2    1    1       1     1      1     2  \n",
       "\n",
       "[1 rows x 75 columns]"
      ]
     },
     "execution_count": 104,
     "metadata": {},
     "output_type": "execute_result"
    }
   ],
   "source": [
    "# implementing it in python\n",
    "import pandas as pd\n",
    "from sklearn.feature_extraction.text import CountVectorizer\n",
    "# Convert a collection of text documents to a matrix of token counts\n",
    "\n",
    "vec = CountVectorizer()\n",
    "X = vec.fit_transform([\" \".join(first_doc_lemmed)])\n",
    "\n",
    "\n",
    "df = pd.DataFrame(X.toarray(), columns = vec.get_feature_names())\n",
    "df.head()"
   ]
  },
  {
   "cell_type": "markdown",
   "metadata": {},
   "source": [
    "That is not very exciting for one document. The idea is to make a document term matrix for all of the words in our corpus."
   ]
  },
  {
   "cell_type": "code",
   "execution_count": 105,
   "metadata": {},
   "outputs": [
    {
     "data": {
      "text/html": [
       "<div>\n",
       "<style scoped>\n",
       "    .dataframe tbody tr th:only-of-type {\n",
       "        vertical-align: middle;\n",
       "    }\n",
       "\n",
       "    .dataframe tbody tr th {\n",
       "        vertical-align: top;\n",
       "    }\n",
       "\n",
       "    .dataframe thead th {\n",
       "        text-align: right;\n",
       "    }\n",
       "</style>\n",
       "<table border=\"1\" class=\"dataframe\">\n",
       "  <thead>\n",
       "    <tr style=\"text-align: right;\">\n",
       "      <th></th>\n",
       "      <th>body</th>\n",
       "      <th>target</th>\n",
       "    </tr>\n",
       "  </thead>\n",
       "  <tbody>\n",
       "    <tr>\n",
       "      <td>0</td>\n",
       "      <td>Noting that the resignation of James Mattis as...</td>\n",
       "      <td>1</td>\n",
       "    </tr>\n",
       "    <tr>\n",
       "      <td>1</td>\n",
       "      <td>Desperate to unwind after months of nonstop wo...</td>\n",
       "      <td>1</td>\n",
       "    </tr>\n",
       "    <tr>\n",
       "      <td>2</td>\n",
       "      <td>Nearly halfway through his presidential term, ...</td>\n",
       "      <td>1</td>\n",
       "    </tr>\n",
       "    <tr>\n",
       "      <td>3</td>\n",
       "      <td>Attempting to make amends for gross abuses of ...</td>\n",
       "      <td>1</td>\n",
       "    </tr>\n",
       "    <tr>\n",
       "      <td>4</td>\n",
       "      <td>Decrying the Senate’s resolution blaming the c...</td>\n",
       "      <td>1</td>\n",
       "    </tr>\n",
       "    <tr>\n",
       "      <td>...</td>\n",
       "      <td>...</td>\n",
       "      <td>...</td>\n",
       "    </tr>\n",
       "    <tr>\n",
       "      <td>995</td>\n",
       "      <td>Britain’s opposition leader Jeremy Corbyn wou...</td>\n",
       "      <td>0</td>\n",
       "    </tr>\n",
       "    <tr>\n",
       "      <td>996</td>\n",
       "      <td>Turkey will take over the fight against Islam...</td>\n",
       "      <td>0</td>\n",
       "    </tr>\n",
       "    <tr>\n",
       "      <td>997</td>\n",
       "      <td>Malaysia is seeking $7.5 billion in reparatio...</td>\n",
       "      <td>0</td>\n",
       "    </tr>\n",
       "    <tr>\n",
       "      <td>998</td>\n",
       "      <td>An Israeli court sentenced a Palestinian to 1...</td>\n",
       "      <td>0</td>\n",
       "    </tr>\n",
       "    <tr>\n",
       "      <td>999</td>\n",
       "      <td>At least 22 people have died due to landslide...</td>\n",
       "      <td>0</td>\n",
       "    </tr>\n",
       "  </tbody>\n",
       "</table>\n",
       "<p>1000 rows × 2 columns</p>\n",
       "</div>"
      ],
      "text/plain": [
       "                                                  body  target\n",
       "0    Noting that the resignation of James Mattis as...       1\n",
       "1    Desperate to unwind after months of nonstop wo...       1\n",
       "2    Nearly halfway through his presidential term, ...       1\n",
       "3    Attempting to make amends for gross abuses of ...       1\n",
       "4    Decrying the Senate’s resolution blaming the c...       1\n",
       "..                                                 ...     ...\n",
       "995   Britain’s opposition leader Jeremy Corbyn wou...       0\n",
       "996   Turkey will take over the fight against Islam...       0\n",
       "997   Malaysia is seeking $7.5 billion in reparatio...       0\n",
       "998   An Israeli court sentenced a Palestinian to 1...       0\n",
       "999   At least 22 people have died due to landslide...       0\n",
       "\n",
       "[1000 rows x 2 columns]"
      ]
     },
     "execution_count": 105,
     "metadata": {},
     "output_type": "execute_result"
    }
   ],
   "source": [
    "corpus"
   ]
  },
  {
   "cell_type": "code",
   "execution_count": 106,
   "metadata": {},
   "outputs": [
    {
     "data": {
      "text/html": [
       "<div>\n",
       "<style scoped>\n",
       "    .dataframe tbody tr th:only-of-type {\n",
       "        vertical-align: middle;\n",
       "    }\n",
       "\n",
       "    .dataframe tbody tr th {\n",
       "        vertical-align: top;\n",
       "    }\n",
       "\n",
       "    .dataframe thead th {\n",
       "        text-align: right;\n",
       "    }\n",
       "</style>\n",
       "<table border=\"1\" class=\"dataframe\">\n",
       "  <thead>\n",
       "    <tr style=\"text-align: right;\">\n",
       "      <th></th>\n",
       "      <th>adding</th>\n",
       "      <th>administration</th>\n",
       "      <th>advisor</th>\n",
       "      <th>also</th>\n",
       "      <th>americans</th>\n",
       "      <th>another</th>\n",
       "      <th>assholes</th>\n",
       "      <th>back</th>\n",
       "      <th>bank</th>\n",
       "      <th>beginning</th>\n",
       "      <th>...</th>\n",
       "      <th>want</th>\n",
       "      <th>wants</th>\n",
       "      <th>weeks</th>\n",
       "      <th>whether</th>\n",
       "      <th>whole</th>\n",
       "      <th>witnesses</th>\n",
       "      <th>work</th>\n",
       "      <th>worried</th>\n",
       "      <th>year</th>\n",
       "      <th>yet</th>\n",
       "    </tr>\n",
       "  </thead>\n",
       "  <tbody>\n",
       "    <tr>\n",
       "      <td>0</td>\n",
       "      <td>0</td>\n",
       "      <td>1</td>\n",
       "      <td>1</td>\n",
       "      <td>1</td>\n",
       "      <td>1</td>\n",
       "      <td>0</td>\n",
       "      <td>1</td>\n",
       "      <td>1</td>\n",
       "      <td>0</td>\n",
       "      <td>1</td>\n",
       "      <td>...</td>\n",
       "      <td>0</td>\n",
       "      <td>0</td>\n",
       "      <td>1</td>\n",
       "      <td>0</td>\n",
       "      <td>0</td>\n",
       "      <td>0</td>\n",
       "      <td>0</td>\n",
       "      <td>1</td>\n",
       "      <td>2</td>\n",
       "      <td>0</td>\n",
       "    </tr>\n",
       "    <tr>\n",
       "      <td>1</td>\n",
       "      <td>1</td>\n",
       "      <td>0</td>\n",
       "      <td>0</td>\n",
       "      <td>0</td>\n",
       "      <td>0</td>\n",
       "      <td>1</td>\n",
       "      <td>0</td>\n",
       "      <td>1</td>\n",
       "      <td>1</td>\n",
       "      <td>0</td>\n",
       "      <td>...</td>\n",
       "      <td>2</td>\n",
       "      <td>1</td>\n",
       "      <td>1</td>\n",
       "      <td>1</td>\n",
       "      <td>1</td>\n",
       "      <td>1</td>\n",
       "      <td>1</td>\n",
       "      <td>0</td>\n",
       "      <td>0</td>\n",
       "      <td>1</td>\n",
       "    </tr>\n",
       "  </tbody>\n",
       "</table>\n",
       "<p>2 rows × 175 columns</p>\n",
       "</div>"
      ],
      "text/plain": [
       "   adding  administration  advisor  also  americans  another  assholes  back  \\\n",
       "0       0               1        1     1          1        0         1     1   \n",
       "1       1               0        0     0          0        1         0     1   \n",
       "\n",
       "   bank  beginning  ...  want  wants  weeks  whether  whole  witnesses  work  \\\n",
       "0     0          1  ...     0      0      1        0      0          0     0   \n",
       "1     1          0  ...     2      1      1        1      1          1     1   \n",
       "\n",
       "   worried  year  yet  \n",
       "0        1     2    0  \n",
       "1        0     0    1  \n",
       "\n",
       "[2 rows x 175 columns]"
      ]
     },
     "execution_count": 106,
     "metadata": {},
     "output_type": "execute_result"
    }
   ],
   "source": [
    "vec = CountVectorizer(token_pattern=r\"([a-zA-Z]+(?:'[a-z]+)?)\", stop_words=custom_sw)\n",
    "X = vec.fit_transform(corpus.body[0:2])\n",
    "\n",
    "df = pd.DataFrame(X.toarray(), columns = vec.get_feature_names())\n",
    "df.head()"
   ]
  },
  {
   "cell_type": "code",
   "execution_count": 107,
   "metadata": {},
   "outputs": [
    {
     "data": {
      "text/html": [
       "<div>\n",
       "<style scoped>\n",
       "    .dataframe tbody tr th:only-of-type {\n",
       "        vertical-align: middle;\n",
       "    }\n",
       "\n",
       "    .dataframe tbody tr th {\n",
       "        vertical-align: top;\n",
       "    }\n",
       "\n",
       "    .dataframe thead th {\n",
       "        text-align: right;\n",
       "    }\n",
       "</style>\n",
       "<table border=\"1\" class=\"dataframe\">\n",
       "  <thead>\n",
       "    <tr style=\"text-align: right;\">\n",
       "      <th></th>\n",
       "      <th>adding</th>\n",
       "      <th>adding wants</th>\n",
       "      <th>administration</th>\n",
       "      <th>administration official</th>\n",
       "      <th>advisor</th>\n",
       "      <th>advisor michael</th>\n",
       "      <th>also</th>\n",
       "      <th>also noting</th>\n",
       "      <th>americans</th>\n",
       "      <th>americans also</th>\n",
       "      <th>...</th>\n",
       "      <th>witnesses want</th>\n",
       "      <th>work</th>\n",
       "      <th>work investigating</th>\n",
       "      <th>worried</th>\n",
       "      <th>worried populace</th>\n",
       "      <th>year</th>\n",
       "      <th>year country</th>\n",
       "      <th>year old</th>\n",
       "      <th>yet</th>\n",
       "      <th>yet another</th>\n",
       "    </tr>\n",
       "  </thead>\n",
       "  <tbody>\n",
       "    <tr>\n",
       "      <td>0</td>\n",
       "      <td>0</td>\n",
       "      <td>0</td>\n",
       "      <td>1</td>\n",
       "      <td>1</td>\n",
       "      <td>1</td>\n",
       "      <td>1</td>\n",
       "      <td>1</td>\n",
       "      <td>1</td>\n",
       "      <td>1</td>\n",
       "      <td>1</td>\n",
       "      <td>...</td>\n",
       "      <td>0</td>\n",
       "      <td>0</td>\n",
       "      <td>0</td>\n",
       "      <td>1</td>\n",
       "      <td>1</td>\n",
       "      <td>2</td>\n",
       "      <td>1</td>\n",
       "      <td>1</td>\n",
       "      <td>0</td>\n",
       "      <td>0</td>\n",
       "    </tr>\n",
       "    <tr>\n",
       "      <td>1</td>\n",
       "      <td>1</td>\n",
       "      <td>1</td>\n",
       "      <td>0</td>\n",
       "      <td>0</td>\n",
       "      <td>0</td>\n",
       "      <td>0</td>\n",
       "      <td>0</td>\n",
       "      <td>0</td>\n",
       "      <td>0</td>\n",
       "      <td>0</td>\n",
       "      <td>...</td>\n",
       "      <td>1</td>\n",
       "      <td>1</td>\n",
       "      <td>1</td>\n",
       "      <td>0</td>\n",
       "      <td>0</td>\n",
       "      <td>0</td>\n",
       "      <td>0</td>\n",
       "      <td>0</td>\n",
       "      <td>1</td>\n",
       "      <td>1</td>\n",
       "    </tr>\n",
       "  </tbody>\n",
       "</table>\n",
       "<p>2 rows × 375 columns</p>\n",
       "</div>"
      ],
      "text/plain": [
       "   adding  adding wants  administration  administration official  advisor  \\\n",
       "0       0             0               1                        1        1   \n",
       "1       1             1               0                        0        0   \n",
       "\n",
       "   advisor michael  also  also noting  americans  americans also  ...  \\\n",
       "0                1     1            1          1               1  ...   \n",
       "1                0     0            0          0               0  ...   \n",
       "\n",
       "   witnesses want  work  work investigating  worried  worried populace  year  \\\n",
       "0               0     0                   0        1                 1     2   \n",
       "1               1     1                   1        0                 0     0   \n",
       "\n",
       "   year country  year old  yet  yet another  \n",
       "0             1         1    0            0  \n",
       "1             0         0    1            1  \n",
       "\n",
       "[2 rows x 375 columns]"
      ]
     },
     "execution_count": 107,
     "metadata": {},
     "output_type": "execute_result"
    }
   ],
   "source": [
    "vec = CountVectorizer(token_pattern=r\"([a-zA-Z]+(?:'[a-z]+)?)\", stop_words=custom_sw, ngram_range=[1,2])\n",
    "X = vec.fit_transform(corpus.body[0:2])\n",
    "\n",
    "df = pd.DataFrame(X.toarray(), columns = vec.get_feature_names())\n",
    "df.head()"
   ]
  },
  {
   "cell_type": "markdown",
   "metadata": {},
   "source": [
    "Our document term matrix gets bigger and bigger, with more and more zeros, becoming sparser and sparser."
   ]
  },
  {
   "cell_type": "code",
   "execution_count": 108,
   "metadata": {},
   "outputs": [
    {
     "data": {
      "text/html": [
       "<div>\n",
       "<style scoped>\n",
       "    .dataframe tbody tr th:only-of-type {\n",
       "        vertical-align: middle;\n",
       "    }\n",
       "\n",
       "    .dataframe tbody tr th {\n",
       "        vertical-align: top;\n",
       "    }\n",
       "\n",
       "    .dataframe thead th {\n",
       "        text-align: right;\n",
       "    }\n",
       "</style>\n",
       "<table border=\"1\" class=\"dataframe\">\n",
       "  <thead>\n",
       "    <tr style=\"text-align: right;\">\n",
       "      <th></th>\n",
       "      <th>aa</th>\n",
       "      <th>aa united</th>\n",
       "      <th>aaaaaaah</th>\n",
       "      <th>aaaaaaah aaaaaah</th>\n",
       "      <th>aaaaaah</th>\n",
       "      <th>aaaaaah deal</th>\n",
       "      <th>aaaaargh</th>\n",
       "      <th>aaaaargh falls</th>\n",
       "      <th>aaaah</th>\n",
       "      <th>aaaah internet</th>\n",
       "      <th>...</th>\n",
       "      <th>zuercher kantonalbank</th>\n",
       "      <th>zverev</th>\n",
       "      <th>zverev two</th>\n",
       "      <th>zych</th>\n",
       "      <th>zych mother</th>\n",
       "      <th>zych whose</th>\n",
       "      <th>zzouss</th>\n",
       "      <th>zzzzzst</th>\n",
       "      <th>zzzzzst compilation</th>\n",
       "      <th>zzzzzst shut</th>\n",
       "    </tr>\n",
       "  </thead>\n",
       "  <tbody>\n",
       "    <tr>\n",
       "      <td>0</td>\n",
       "      <td>0</td>\n",
       "      <td>0</td>\n",
       "      <td>0</td>\n",
       "      <td>0</td>\n",
       "      <td>0</td>\n",
       "      <td>0</td>\n",
       "      <td>0</td>\n",
       "      <td>0</td>\n",
       "      <td>0</td>\n",
       "      <td>0</td>\n",
       "      <td>...</td>\n",
       "      <td>0</td>\n",
       "      <td>0</td>\n",
       "      <td>0</td>\n",
       "      <td>0</td>\n",
       "      <td>0</td>\n",
       "      <td>0</td>\n",
       "      <td>0</td>\n",
       "      <td>0</td>\n",
       "      <td>0</td>\n",
       "      <td>0</td>\n",
       "    </tr>\n",
       "    <tr>\n",
       "      <td>1</td>\n",
       "      <td>0</td>\n",
       "      <td>0</td>\n",
       "      <td>0</td>\n",
       "      <td>0</td>\n",
       "      <td>0</td>\n",
       "      <td>0</td>\n",
       "      <td>0</td>\n",
       "      <td>0</td>\n",
       "      <td>0</td>\n",
       "      <td>0</td>\n",
       "      <td>...</td>\n",
       "      <td>0</td>\n",
       "      <td>0</td>\n",
       "      <td>0</td>\n",
       "      <td>0</td>\n",
       "      <td>0</td>\n",
       "      <td>0</td>\n",
       "      <td>0</td>\n",
       "      <td>0</td>\n",
       "      <td>0</td>\n",
       "      <td>0</td>\n",
       "    </tr>\n",
       "    <tr>\n",
       "      <td>2</td>\n",
       "      <td>0</td>\n",
       "      <td>0</td>\n",
       "      <td>0</td>\n",
       "      <td>0</td>\n",
       "      <td>0</td>\n",
       "      <td>0</td>\n",
       "      <td>0</td>\n",
       "      <td>0</td>\n",
       "      <td>0</td>\n",
       "      <td>0</td>\n",
       "      <td>...</td>\n",
       "      <td>0</td>\n",
       "      <td>0</td>\n",
       "      <td>0</td>\n",
       "      <td>0</td>\n",
       "      <td>0</td>\n",
       "      <td>0</td>\n",
       "      <td>0</td>\n",
       "      <td>0</td>\n",
       "      <td>0</td>\n",
       "      <td>0</td>\n",
       "    </tr>\n",
       "    <tr>\n",
       "      <td>3</td>\n",
       "      <td>0</td>\n",
       "      <td>0</td>\n",
       "      <td>0</td>\n",
       "      <td>0</td>\n",
       "      <td>0</td>\n",
       "      <td>0</td>\n",
       "      <td>0</td>\n",
       "      <td>0</td>\n",
       "      <td>0</td>\n",
       "      <td>0</td>\n",
       "      <td>...</td>\n",
       "      <td>0</td>\n",
       "      <td>0</td>\n",
       "      <td>0</td>\n",
       "      <td>0</td>\n",
       "      <td>0</td>\n",
       "      <td>0</td>\n",
       "      <td>0</td>\n",
       "      <td>0</td>\n",
       "      <td>0</td>\n",
       "      <td>0</td>\n",
       "    </tr>\n",
       "    <tr>\n",
       "      <td>4</td>\n",
       "      <td>0</td>\n",
       "      <td>0</td>\n",
       "      <td>0</td>\n",
       "      <td>0</td>\n",
       "      <td>0</td>\n",
       "      <td>0</td>\n",
       "      <td>0</td>\n",
       "      <td>0</td>\n",
       "      <td>0</td>\n",
       "      <td>0</td>\n",
       "      <td>...</td>\n",
       "      <td>0</td>\n",
       "      <td>0</td>\n",
       "      <td>0</td>\n",
       "      <td>0</td>\n",
       "      <td>0</td>\n",
       "      <td>0</td>\n",
       "      <td>0</td>\n",
       "      <td>0</td>\n",
       "      <td>0</td>\n",
       "      <td>0</td>\n",
       "    </tr>\n",
       "  </tbody>\n",
       "</table>\n",
       "<p>5 rows × 201365 columns</p>\n",
       "</div>"
      ],
      "text/plain": [
       "   aa  aa united  aaaaaaah  aaaaaaah aaaaaah  aaaaaah  aaaaaah deal  aaaaargh  \\\n",
       "0   0          0         0                 0        0             0         0   \n",
       "1   0          0         0                 0        0             0         0   \n",
       "2   0          0         0                 0        0             0         0   \n",
       "3   0          0         0                 0        0             0         0   \n",
       "4   0          0         0                 0        0             0         0   \n",
       "\n",
       "   aaaaargh falls  aaaah  aaaah internet  ...  zuercher kantonalbank  zverev  \\\n",
       "0               0      0               0  ...                      0       0   \n",
       "1               0      0               0  ...                      0       0   \n",
       "2               0      0               0  ...                      0       0   \n",
       "3               0      0               0  ...                      0       0   \n",
       "4               0      0               0  ...                      0       0   \n",
       "\n",
       "   zverev two  zych  zych mother  zych whose  zzouss  zzzzzst  \\\n",
       "0           0     0            0           0       0        0   \n",
       "1           0     0            0           0       0        0   \n",
       "2           0     0            0           0       0        0   \n",
       "3           0     0            0           0       0        0   \n",
       "4           0     0            0           0       0        0   \n",
       "\n",
       "   zzzzzst compilation  zzzzzst shut  \n",
       "0                    0             0  \n",
       "1                    0             0  \n",
       "2                    0             0  \n",
       "3                    0             0  \n",
       "4                    0             0  \n",
       "\n",
       "[5 rows x 201365 columns]"
      ]
     },
     "execution_count": 108,
     "metadata": {},
     "output_type": "execute_result"
    }
   ],
   "source": [
    "vec = CountVectorizer(token_pattern=r\"([a-zA-Z]+(?:'[a-z]+)?)\", stop_words=custom_sw, ngram_range=[1,2])\n",
    "X = vec.fit_transform(corpus.body)\n",
    "\n",
    "df = pd.DataFrame(X.toarray(), columns = vec.get_feature_names())\n",
    "df.head()"
   ]
  },
  {
   "cell_type": "markdown",
   "metadata": {},
   "source": [
    "We can set upper and lower limits to the word frequency."
   ]
  },
  {
   "cell_type": "code",
   "execution_count": 109,
   "metadata": {},
   "outputs": [
    {
     "data": {
      "text/plain": [
       "0      Noting that the resignation of James Mattis as...\n",
       "1      Desperate to unwind after months of nonstop wo...\n",
       "2      Nearly halfway through his presidential term, ...\n",
       "3      Attempting to make amends for gross abuses of ...\n",
       "4      Decrying the Senate’s resolution blaming the c...\n",
       "                             ...                        \n",
       "995     Britain’s opposition leader Jeremy Corbyn wou...\n",
       "996     Turkey will take over the fight against Islam...\n",
       "997     Malaysia is seeking $7.5 billion in reparatio...\n",
       "998     An Israeli court sentenced a Palestinian to 1...\n",
       "999     At least 22 people have died due to landslide...\n",
       "Name: body, Length: 1000, dtype: object"
      ]
     },
     "execution_count": 109,
     "metadata": {},
     "output_type": "execute_result"
    }
   ],
   "source": [
    "corpus.body"
   ]
  },
  {
   "cell_type": "code",
   "execution_count": 110,
   "metadata": {},
   "outputs": [
    {
     "data": {
      "text/html": [
       "<div>\n",
       "<style scoped>\n",
       "    .dataframe tbody tr th:only-of-type {\n",
       "        vertical-align: middle;\n",
       "    }\n",
       "\n",
       "    .dataframe tbody tr th {\n",
       "        vertical-align: top;\n",
       "    }\n",
       "\n",
       "    .dataframe thead th {\n",
       "        text-align: right;\n",
       "    }\n",
       "</style>\n",
       "<table border=\"1\" class=\"dataframe\">\n",
       "  <thead>\n",
       "    <tr style=\"text-align: right;\">\n",
       "      <th></th>\n",
       "      <th>aapl</th>\n",
       "      <th>aaron</th>\n",
       "      <th>aaron ross</th>\n",
       "      <th>ab</th>\n",
       "      <th>abandon</th>\n",
       "      <th>abandon conservatives</th>\n",
       "      <th>abandoned</th>\n",
       "      <th>abandoned grassroots</th>\n",
       "      <th>abandoning</th>\n",
       "      <th>abandoning quarter</th>\n",
       "      <th>...</th>\n",
       "      <th>zone</th>\n",
       "      <th>zone eu</th>\n",
       "      <th>zones</th>\n",
       "      <th>zoo</th>\n",
       "      <th>zoo closed</th>\n",
       "      <th>zooming</th>\n",
       "      <th>zor</th>\n",
       "      <th>zte</th>\n",
       "      <th>zte corp</th>\n",
       "      <th>zuckerberg</th>\n",
       "    </tr>\n",
       "  </thead>\n",
       "  <tbody>\n",
       "    <tr>\n",
       "      <td>0</td>\n",
       "      <td>0</td>\n",
       "      <td>0</td>\n",
       "      <td>0</td>\n",
       "      <td>0</td>\n",
       "      <td>0</td>\n",
       "      <td>0</td>\n",
       "      <td>0</td>\n",
       "      <td>0</td>\n",
       "      <td>0</td>\n",
       "      <td>0</td>\n",
       "      <td>...</td>\n",
       "      <td>0</td>\n",
       "      <td>0</td>\n",
       "      <td>0</td>\n",
       "      <td>0</td>\n",
       "      <td>0</td>\n",
       "      <td>0</td>\n",
       "      <td>0</td>\n",
       "      <td>0</td>\n",
       "      <td>0</td>\n",
       "      <td>0</td>\n",
       "    </tr>\n",
       "    <tr>\n",
       "      <td>1</td>\n",
       "      <td>0</td>\n",
       "      <td>0</td>\n",
       "      <td>0</td>\n",
       "      <td>0</td>\n",
       "      <td>0</td>\n",
       "      <td>0</td>\n",
       "      <td>0</td>\n",
       "      <td>0</td>\n",
       "      <td>0</td>\n",
       "      <td>0</td>\n",
       "      <td>...</td>\n",
       "      <td>0</td>\n",
       "      <td>0</td>\n",
       "      <td>0</td>\n",
       "      <td>0</td>\n",
       "      <td>0</td>\n",
       "      <td>0</td>\n",
       "      <td>0</td>\n",
       "      <td>0</td>\n",
       "      <td>0</td>\n",
       "      <td>0</td>\n",
       "    </tr>\n",
       "    <tr>\n",
       "      <td>2</td>\n",
       "      <td>0</td>\n",
       "      <td>0</td>\n",
       "      <td>0</td>\n",
       "      <td>0</td>\n",
       "      <td>0</td>\n",
       "      <td>0</td>\n",
       "      <td>0</td>\n",
       "      <td>0</td>\n",
       "      <td>0</td>\n",
       "      <td>0</td>\n",
       "      <td>...</td>\n",
       "      <td>0</td>\n",
       "      <td>0</td>\n",
       "      <td>0</td>\n",
       "      <td>0</td>\n",
       "      <td>0</td>\n",
       "      <td>0</td>\n",
       "      <td>0</td>\n",
       "      <td>0</td>\n",
       "      <td>0</td>\n",
       "      <td>0</td>\n",
       "    </tr>\n",
       "    <tr>\n",
       "      <td>3</td>\n",
       "      <td>0</td>\n",
       "      <td>0</td>\n",
       "      <td>0</td>\n",
       "      <td>0</td>\n",
       "      <td>0</td>\n",
       "      <td>0</td>\n",
       "      <td>0</td>\n",
       "      <td>0</td>\n",
       "      <td>0</td>\n",
       "      <td>0</td>\n",
       "      <td>...</td>\n",
       "      <td>0</td>\n",
       "      <td>0</td>\n",
       "      <td>0</td>\n",
       "      <td>0</td>\n",
       "      <td>0</td>\n",
       "      <td>0</td>\n",
       "      <td>0</td>\n",
       "      <td>0</td>\n",
       "      <td>0</td>\n",
       "      <td>0</td>\n",
       "    </tr>\n",
       "    <tr>\n",
       "      <td>4</td>\n",
       "      <td>0</td>\n",
       "      <td>0</td>\n",
       "      <td>0</td>\n",
       "      <td>0</td>\n",
       "      <td>0</td>\n",
       "      <td>0</td>\n",
       "      <td>0</td>\n",
       "      <td>0</td>\n",
       "      <td>0</td>\n",
       "      <td>0</td>\n",
       "      <td>...</td>\n",
       "      <td>0</td>\n",
       "      <td>0</td>\n",
       "      <td>0</td>\n",
       "      <td>0</td>\n",
       "      <td>0</td>\n",
       "      <td>0</td>\n",
       "      <td>0</td>\n",
       "      <td>0</td>\n",
       "      <td>0</td>\n",
       "      <td>0</td>\n",
       "    </tr>\n",
       "    <tr>\n",
       "      <td>...</td>\n",
       "      <td>...</td>\n",
       "      <td>...</td>\n",
       "      <td>...</td>\n",
       "      <td>...</td>\n",
       "      <td>...</td>\n",
       "      <td>...</td>\n",
       "      <td>...</td>\n",
       "      <td>...</td>\n",
       "      <td>...</td>\n",
       "      <td>...</td>\n",
       "      <td>...</td>\n",
       "      <td>...</td>\n",
       "      <td>...</td>\n",
       "      <td>...</td>\n",
       "      <td>...</td>\n",
       "      <td>...</td>\n",
       "      <td>...</td>\n",
       "      <td>...</td>\n",
       "      <td>...</td>\n",
       "      <td>...</td>\n",
       "      <td>...</td>\n",
       "    </tr>\n",
       "    <tr>\n",
       "      <td>995</td>\n",
       "      <td>0</td>\n",
       "      <td>0</td>\n",
       "      <td>0</td>\n",
       "      <td>0</td>\n",
       "      <td>0</td>\n",
       "      <td>0</td>\n",
       "      <td>0</td>\n",
       "      <td>0</td>\n",
       "      <td>0</td>\n",
       "      <td>0</td>\n",
       "      <td>...</td>\n",
       "      <td>0</td>\n",
       "      <td>0</td>\n",
       "      <td>0</td>\n",
       "      <td>0</td>\n",
       "      <td>0</td>\n",
       "      <td>0</td>\n",
       "      <td>0</td>\n",
       "      <td>0</td>\n",
       "      <td>0</td>\n",
       "      <td>0</td>\n",
       "    </tr>\n",
       "    <tr>\n",
       "      <td>996</td>\n",
       "      <td>0</td>\n",
       "      <td>0</td>\n",
       "      <td>0</td>\n",
       "      <td>0</td>\n",
       "      <td>0</td>\n",
       "      <td>0</td>\n",
       "      <td>0</td>\n",
       "      <td>0</td>\n",
       "      <td>0</td>\n",
       "      <td>0</td>\n",
       "      <td>...</td>\n",
       "      <td>0</td>\n",
       "      <td>0</td>\n",
       "      <td>0</td>\n",
       "      <td>0</td>\n",
       "      <td>0</td>\n",
       "      <td>0</td>\n",
       "      <td>0</td>\n",
       "      <td>0</td>\n",
       "      <td>0</td>\n",
       "      <td>0</td>\n",
       "    </tr>\n",
       "    <tr>\n",
       "      <td>997</td>\n",
       "      <td>0</td>\n",
       "      <td>0</td>\n",
       "      <td>0</td>\n",
       "      <td>0</td>\n",
       "      <td>0</td>\n",
       "      <td>0</td>\n",
       "      <td>0</td>\n",
       "      <td>0</td>\n",
       "      <td>0</td>\n",
       "      <td>0</td>\n",
       "      <td>...</td>\n",
       "      <td>0</td>\n",
       "      <td>0</td>\n",
       "      <td>0</td>\n",
       "      <td>0</td>\n",
       "      <td>0</td>\n",
       "      <td>0</td>\n",
       "      <td>0</td>\n",
       "      <td>0</td>\n",
       "      <td>0</td>\n",
       "      <td>0</td>\n",
       "    </tr>\n",
       "    <tr>\n",
       "      <td>998</td>\n",
       "      <td>0</td>\n",
       "      <td>0</td>\n",
       "      <td>0</td>\n",
       "      <td>0</td>\n",
       "      <td>0</td>\n",
       "      <td>0</td>\n",
       "      <td>0</td>\n",
       "      <td>0</td>\n",
       "      <td>0</td>\n",
       "      <td>0</td>\n",
       "      <td>...</td>\n",
       "      <td>0</td>\n",
       "      <td>0</td>\n",
       "      <td>0</td>\n",
       "      <td>0</td>\n",
       "      <td>0</td>\n",
       "      <td>0</td>\n",
       "      <td>0</td>\n",
       "      <td>0</td>\n",
       "      <td>0</td>\n",
       "      <td>0</td>\n",
       "    </tr>\n",
       "    <tr>\n",
       "      <td>999</td>\n",
       "      <td>0</td>\n",
       "      <td>0</td>\n",
       "      <td>0</td>\n",
       "      <td>0</td>\n",
       "      <td>0</td>\n",
       "      <td>0</td>\n",
       "      <td>0</td>\n",
       "      <td>0</td>\n",
       "      <td>0</td>\n",
       "      <td>0</td>\n",
       "      <td>...</td>\n",
       "      <td>0</td>\n",
       "      <td>0</td>\n",
       "      <td>0</td>\n",
       "      <td>0</td>\n",
       "      <td>0</td>\n",
       "      <td>0</td>\n",
       "      <td>0</td>\n",
       "      <td>0</td>\n",
       "      <td>0</td>\n",
       "      <td>0</td>\n",
       "    </tr>\n",
       "  </tbody>\n",
       "</table>\n",
       "<p>1000 rows × 31266 columns</p>\n",
       "</div>"
      ],
      "text/plain": [
       "     aapl  aaron  aaron ross  ab  abandon  abandon conservatives  abandoned  \\\n",
       "0       0      0           0   0        0                      0          0   \n",
       "1       0      0           0   0        0                      0          0   \n",
       "2       0      0           0   0        0                      0          0   \n",
       "3       0      0           0   0        0                      0          0   \n",
       "4       0      0           0   0        0                      0          0   \n",
       "..    ...    ...         ...  ..      ...                    ...        ...   \n",
       "995     0      0           0   0        0                      0          0   \n",
       "996     0      0           0   0        0                      0          0   \n",
       "997     0      0           0   0        0                      0          0   \n",
       "998     0      0           0   0        0                      0          0   \n",
       "999     0      0           0   0        0                      0          0   \n",
       "\n",
       "     abandoned grassroots  abandoning  abandoning quarter  ...  zone  zone eu  \\\n",
       "0                       0           0                   0  ...     0        0   \n",
       "1                       0           0                   0  ...     0        0   \n",
       "2                       0           0                   0  ...     0        0   \n",
       "3                       0           0                   0  ...     0        0   \n",
       "4                       0           0                   0  ...     0        0   \n",
       "..                    ...         ...                 ...  ...   ...      ...   \n",
       "995                     0           0                   0  ...     0        0   \n",
       "996                     0           0                   0  ...     0        0   \n",
       "997                     0           0                   0  ...     0        0   \n",
       "998                     0           0                   0  ...     0        0   \n",
       "999                     0           0                   0  ...     0        0   \n",
       "\n",
       "     zones  zoo  zoo closed  zooming  zor  zte  zte corp  zuckerberg  \n",
       "0        0    0           0        0    0    0         0           0  \n",
       "1        0    0           0        0    0    0         0           0  \n",
       "2        0    0           0        0    0    0         0           0  \n",
       "3        0    0           0        0    0    0         0           0  \n",
       "4        0    0           0        0    0    0         0           0  \n",
       "..     ...  ...         ...      ...  ...  ...       ...         ...  \n",
       "995      0    0           0        0    0    0         0           0  \n",
       "996      0    0           0        0    0    0         0           0  \n",
       "997      0    0           0        0    0    0         0           0  \n",
       "998      0    0           0        0    0    0         0           0  \n",
       "999      0    0           0        0    0    0         0           0  \n",
       "\n",
       "[1000 rows x 31266 columns]"
      ]
     },
     "execution_count": 110,
     "metadata": {},
     "output_type": "execute_result"
    }
   ],
   "source": [
    "vec = CountVectorizer(token_pattern=r\"([a-zA-Z]+(?:'[a-z]+)?)\", stop_words=custom_sw, ngram_range=[1,2], min_df=2, max_df=25)\n",
    "X = vec.fit_transform(corpus.body)\n",
    "\n",
    "df_cv = pd.DataFrame(X.toarray(), columns = vec.get_feature_names())\n",
    "df_cv"
   ]
  },
  {
   "cell_type": "markdown",
   "metadata": {},
   "source": [
    "### TF-IDF \n",
    "There are many schemas for determining the values of each entry in a document term matrix, and one of the most common schema is called the TF-IDF -- term frequency-inverse document frequency. Essentially, tf-idf *normalizes* the raw count of the document term matrix. And it represents how important a word is in the given document. \n",
    "\n",
    "> The goal of using tf-idf instead of the raw frequencies of occurrence of a token in a given document is to scale down the impact of tokens that occur very frequently in a given corpus and that are hence empirically less informative than features that occur in a small fraction of the training corpus.\n",
    "\n",
    "- TF (Term Frequency)\n",
    "term frequency is the frequency of the word in the document divided by the total words in the document.\n",
    "\n",
    "- IDF (inverse document frequency)\n",
    "IDF represents the measure of how much information the word provides, i.e., if it's common or rare across all documents. It is the logarithmically scaled inverse fraction of the documents that contain the word (obtained by dividing the total number of documents by the number of documents containing the term, and then taking the logarithm of that quotient):\n",
    "\n",
    "$$idf(w) = log (\\frac{number\\ of\\ documents}{num\\ of\\ documents\\ containing\\ w})$$\n",
    "\n",
    "tf-idf is the product of term frequency and inverse document frequency, or tf * idf. "
   ]
  },
  {
   "cell_type": "code",
   "execution_count": 111,
   "metadata": {},
   "outputs": [
    {
     "data": {
      "text/html": [
       "<div>\n",
       "<style scoped>\n",
       "    .dataframe tbody tr th:only-of-type {\n",
       "        vertical-align: middle;\n",
       "    }\n",
       "\n",
       "    .dataframe tbody tr th {\n",
       "        vertical-align: top;\n",
       "    }\n",
       "\n",
       "    .dataframe thead th {\n",
       "        text-align: right;\n",
       "    }\n",
       "</style>\n",
       "<table border=\"1\" class=\"dataframe\">\n",
       "  <thead>\n",
       "    <tr style=\"text-align: right;\">\n",
       "      <th></th>\n",
       "      <th>aa</th>\n",
       "      <th>aaaaaaah</th>\n",
       "      <th>aaaaaah</th>\n",
       "      <th>aaaaargh</th>\n",
       "      <th>aaaah</th>\n",
       "      <th>aaah</th>\n",
       "      <th>aaargh</th>\n",
       "      <th>aah</th>\n",
       "      <th>aahing</th>\n",
       "      <th>aap</th>\n",
       "      <th>...</th>\n",
       "      <th>zoos</th>\n",
       "      <th>zor</th>\n",
       "      <th>zozovitch</th>\n",
       "      <th>zte</th>\n",
       "      <th>zuckerberg</th>\n",
       "      <th>zuercher</th>\n",
       "      <th>zverev</th>\n",
       "      <th>zych</th>\n",
       "      <th>zzouss</th>\n",
       "      <th>zzzzzst</th>\n",
       "    </tr>\n",
       "  </thead>\n",
       "  <tbody>\n",
       "    <tr>\n",
       "      <td>0</td>\n",
       "      <td>0.0</td>\n",
       "      <td>0.0</td>\n",
       "      <td>0.0</td>\n",
       "      <td>0.0</td>\n",
       "      <td>0.0</td>\n",
       "      <td>0.0</td>\n",
       "      <td>0.0</td>\n",
       "      <td>0.0</td>\n",
       "      <td>0.0</td>\n",
       "      <td>0.0</td>\n",
       "      <td>...</td>\n",
       "      <td>0.0</td>\n",
       "      <td>0.0</td>\n",
       "      <td>0.0</td>\n",
       "      <td>0.0</td>\n",
       "      <td>0.0</td>\n",
       "      <td>0.0</td>\n",
       "      <td>0.0</td>\n",
       "      <td>0.0</td>\n",
       "      <td>0.0</td>\n",
       "      <td>0.0</td>\n",
       "    </tr>\n",
       "    <tr>\n",
       "      <td>1</td>\n",
       "      <td>0.0</td>\n",
       "      <td>0.0</td>\n",
       "      <td>0.0</td>\n",
       "      <td>0.0</td>\n",
       "      <td>0.0</td>\n",
       "      <td>0.0</td>\n",
       "      <td>0.0</td>\n",
       "      <td>0.0</td>\n",
       "      <td>0.0</td>\n",
       "      <td>0.0</td>\n",
       "      <td>...</td>\n",
       "      <td>0.0</td>\n",
       "      <td>0.0</td>\n",
       "      <td>0.0</td>\n",
       "      <td>0.0</td>\n",
       "      <td>0.0</td>\n",
       "      <td>0.0</td>\n",
       "      <td>0.0</td>\n",
       "      <td>0.0</td>\n",
       "      <td>0.0</td>\n",
       "      <td>0.0</td>\n",
       "    </tr>\n",
       "    <tr>\n",
       "      <td>2</td>\n",
       "      <td>0.0</td>\n",
       "      <td>0.0</td>\n",
       "      <td>0.0</td>\n",
       "      <td>0.0</td>\n",
       "      <td>0.0</td>\n",
       "      <td>0.0</td>\n",
       "      <td>0.0</td>\n",
       "      <td>0.0</td>\n",
       "      <td>0.0</td>\n",
       "      <td>0.0</td>\n",
       "      <td>...</td>\n",
       "      <td>0.0</td>\n",
       "      <td>0.0</td>\n",
       "      <td>0.0</td>\n",
       "      <td>0.0</td>\n",
       "      <td>0.0</td>\n",
       "      <td>0.0</td>\n",
       "      <td>0.0</td>\n",
       "      <td>0.0</td>\n",
       "      <td>0.0</td>\n",
       "      <td>0.0</td>\n",
       "    </tr>\n",
       "    <tr>\n",
       "      <td>3</td>\n",
       "      <td>0.0</td>\n",
       "      <td>0.0</td>\n",
       "      <td>0.0</td>\n",
       "      <td>0.0</td>\n",
       "      <td>0.0</td>\n",
       "      <td>0.0</td>\n",
       "      <td>0.0</td>\n",
       "      <td>0.0</td>\n",
       "      <td>0.0</td>\n",
       "      <td>0.0</td>\n",
       "      <td>...</td>\n",
       "      <td>0.0</td>\n",
       "      <td>0.0</td>\n",
       "      <td>0.0</td>\n",
       "      <td>0.0</td>\n",
       "      <td>0.0</td>\n",
       "      <td>0.0</td>\n",
       "      <td>0.0</td>\n",
       "      <td>0.0</td>\n",
       "      <td>0.0</td>\n",
       "      <td>0.0</td>\n",
       "    </tr>\n",
       "    <tr>\n",
       "      <td>4</td>\n",
       "      <td>0.0</td>\n",
       "      <td>0.0</td>\n",
       "      <td>0.0</td>\n",
       "      <td>0.0</td>\n",
       "      <td>0.0</td>\n",
       "      <td>0.0</td>\n",
       "      <td>0.0</td>\n",
       "      <td>0.0</td>\n",
       "      <td>0.0</td>\n",
       "      <td>0.0</td>\n",
       "      <td>...</td>\n",
       "      <td>0.0</td>\n",
       "      <td>0.0</td>\n",
       "      <td>0.0</td>\n",
       "      <td>0.0</td>\n",
       "      <td>0.0</td>\n",
       "      <td>0.0</td>\n",
       "      <td>0.0</td>\n",
       "      <td>0.0</td>\n",
       "      <td>0.0</td>\n",
       "      <td>0.0</td>\n",
       "    </tr>\n",
       "  </tbody>\n",
       "</table>\n",
       "<p>5 rows × 23456 columns</p>\n",
       "</div>"
      ],
      "text/plain": [
       "    aa  aaaaaaah  aaaaaah  aaaaargh  aaaah  aaah  aaargh  aah  aahing  aap  \\\n",
       "0  0.0       0.0      0.0       0.0    0.0   0.0     0.0  0.0     0.0  0.0   \n",
       "1  0.0       0.0      0.0       0.0    0.0   0.0     0.0  0.0     0.0  0.0   \n",
       "2  0.0       0.0      0.0       0.0    0.0   0.0     0.0  0.0     0.0  0.0   \n",
       "3  0.0       0.0      0.0       0.0    0.0   0.0     0.0  0.0     0.0  0.0   \n",
       "4  0.0       0.0      0.0       0.0    0.0   0.0     0.0  0.0     0.0  0.0   \n",
       "\n",
       "   ...  zoos  zor  zozovitch  zte  zuckerberg  zuercher  zverev  zych  zzouss  \\\n",
       "0  ...   0.0  0.0        0.0  0.0         0.0       0.0     0.0   0.0     0.0   \n",
       "1  ...   0.0  0.0        0.0  0.0         0.0       0.0     0.0   0.0     0.0   \n",
       "2  ...   0.0  0.0        0.0  0.0         0.0       0.0     0.0   0.0     0.0   \n",
       "3  ...   0.0  0.0        0.0  0.0         0.0       0.0     0.0   0.0     0.0   \n",
       "4  ...   0.0  0.0        0.0  0.0         0.0       0.0     0.0   0.0     0.0   \n",
       "\n",
       "   zzzzzst  \n",
       "0      0.0  \n",
       "1      0.0  \n",
       "2      0.0  \n",
       "3      0.0  \n",
       "4      0.0  \n",
       "\n",
       "[5 rows x 23456 columns]"
      ]
     },
     "execution_count": 111,
     "metadata": {},
     "output_type": "execute_result"
    }
   ],
   "source": [
    "from sklearn.feature_extraction.text import TfidfVectorizer\n",
    "tf_vec = TfidfVectorizer(token_pattern=r\"([a-zA-Z]+(?:'[a-z]+)?)\", stop_words=custom_sw)\n",
    "X = tf_vec.fit_transform(corpus.body)\n",
    "\n",
    "df = pd.DataFrame(X.toarray(), columns = tf_vec.get_feature_names())\n",
    "df.head()"
   ]
  },
  {
   "cell_type": "code",
   "execution_count": 112,
   "metadata": {},
   "outputs": [
    {
     "data": {
      "text/plain": [
       "'Power nerds, these are a special breed of techie nerds who want to take over the world with their technological prowess. From the birth of the World Wide Web, these power nerds have created and grown companies that are now monopolies controlling every facet of people’s lives. Smartphones, apps, search engines, social networks – power nerds are in everything, their power increases daily as more millions of people use their networks. Power nerds are ruthless, they are creatures who do not balk in crushing their opponents completely without mercy and their greed for complete controlling power over everything is boundless. To quote a few examples of companies that are run by ruthless power nerds, we can of course cite Facebook, Twitter, Amazon and Google. These companies are not only seeking to rule and control everything, they also are using their power to manipulate data taken from their platforms to make money and increase their influence, as well as shut down any voices that are not left leaning. All Hail Zuckerberg “Power nerds are inherently evil. Zuckerberg is one example of a power nerd so power hungry that he pursues global domination with a vehement ruthless nasty streak. These tech robots are machines, they are not really human anymore, their fuel is pure power and more power, and they will use billions of people to achieve their goals at all cost. Tech power nerds are farmers of people, they farm billions of people for data,” an observer of the current situation revealed. Power nerds also do not have a problem about farming data from billions of people without their knowledge, they also abuse their positions to be politically biased and censor free speech as a means of gaining even more power. One can only hope that companies like Facebook one day are brought to justice for their evil, devious crimes committed against billions of people. In 2009, Facebook was caught lying to their account holders about the amount and type of information it was collecting on them, and the company also explicitly lied about who they were providing that information to. As a result, the Federal Trade Commission censured the company in 2011 for violations of Article 5 of the Federal Trade Commission Act. The core mission of Article 5 of the FTC Act is to protect consumer welfare and prevent unfair business acts or practices from occurring. In defiance of the Federal Trade Commission’s order, Facebook continued to reveal their customers private account information to unauthorized individuals and corporations and is therefore liable for civil penalties of $41,484 per each violation – a fine that could reach $3 trillion Dollars. Talking about fines, Google, a company that controls 91.5% of search traffic in Europe alone, is being slapped with antitrust fines from the EU, but it’s only for a measly £2.14 billion, which for a company that pays literally no tax, is peanuts. At the end of the day, these companies led by power nerds have now spread their octopus-like grip over the whole globe, and to even begin deconstructing their evil plan of complete control, will be nearly impossible now unless these companies are fined, broken up and told to pay the tax they owe. Hopefully one day the power nerds are put in their place, and we can all breathe a breath of fresh air on a free internet once again.'"
      ]
     },
     "execution_count": 112,
     "metadata": {},
     "output_type": "execute_result"
    }
   ],
   "source": [
    "corpus.iloc[313].body"
   ]
  },
  {
   "cell_type": "code",
   "execution_count": 113,
   "metadata": {},
   "outputs": [
    {
     "data": {
      "text/plain": [
       "nerds         0.600395\n",
       "power         0.396431\n",
       "companies     0.168113\n",
       "billions      0.140717\n",
       "facebook      0.129234\n",
       "ruthless      0.127221\n",
       "company       0.106710\n",
       "evil          0.104681\n",
       "zuckerberg    0.098676\n",
       "people        0.095639\n",
       "Name: 313, dtype: float64"
      ]
     },
     "execution_count": 113,
     "metadata": {},
     "output_type": "execute_result"
    }
   ],
   "source": [
    "df.iloc[313].sort_values(ascending=False)[:10]"
   ]
  },
  {
   "cell_type": "markdown",
   "metadata": {},
   "source": [
    "Let's compare the tfidf to the count vectorizer output for one document."
   ]
  },
  {
   "cell_type": "code",
   "execution_count": 114,
   "metadata": {},
   "outputs": [
    {
     "data": {
      "text/html": [
       "<div>\n",
       "<style scoped>\n",
       "    .dataframe tbody tr th:only-of-type {\n",
       "        vertical-align: middle;\n",
       "    }\n",
       "\n",
       "    .dataframe tbody tr th {\n",
       "        vertical-align: top;\n",
       "    }\n",
       "\n",
       "    .dataframe thead th {\n",
       "        text-align: right;\n",
       "    }\n",
       "</style>\n",
       "<table border=\"1\" class=\"dataframe\">\n",
       "  <thead>\n",
       "    <tr style=\"text-align: right;\">\n",
       "      <th></th>\n",
       "      <th>aa</th>\n",
       "      <th>aaaaaaah</th>\n",
       "      <th>aaaaaah</th>\n",
       "      <th>aaaaargh</th>\n",
       "      <th>aaaah</th>\n",
       "      <th>aaah</th>\n",
       "      <th>aaargh</th>\n",
       "      <th>aah</th>\n",
       "      <th>aahing</th>\n",
       "      <th>aap</th>\n",
       "      <th>...</th>\n",
       "      <th>zoos</th>\n",
       "      <th>zor</th>\n",
       "      <th>zozovitch</th>\n",
       "      <th>zte</th>\n",
       "      <th>zuckerberg</th>\n",
       "      <th>zuercher</th>\n",
       "      <th>zverev</th>\n",
       "      <th>zych</th>\n",
       "      <th>zzouss</th>\n",
       "      <th>zzzzzst</th>\n",
       "    </tr>\n",
       "  </thead>\n",
       "  <tbody>\n",
       "    <tr>\n",
       "      <td>0</td>\n",
       "      <td>0</td>\n",
       "      <td>0</td>\n",
       "      <td>0</td>\n",
       "      <td>0</td>\n",
       "      <td>0</td>\n",
       "      <td>0</td>\n",
       "      <td>0</td>\n",
       "      <td>0</td>\n",
       "      <td>0</td>\n",
       "      <td>0</td>\n",
       "      <td>...</td>\n",
       "      <td>0</td>\n",
       "      <td>0</td>\n",
       "      <td>0</td>\n",
       "      <td>0</td>\n",
       "      <td>0</td>\n",
       "      <td>0</td>\n",
       "      <td>0</td>\n",
       "      <td>0</td>\n",
       "      <td>0</td>\n",
       "      <td>0</td>\n",
       "    </tr>\n",
       "    <tr>\n",
       "      <td>1</td>\n",
       "      <td>0</td>\n",
       "      <td>0</td>\n",
       "      <td>0</td>\n",
       "      <td>0</td>\n",
       "      <td>0</td>\n",
       "      <td>0</td>\n",
       "      <td>0</td>\n",
       "      <td>0</td>\n",
       "      <td>0</td>\n",
       "      <td>0</td>\n",
       "      <td>...</td>\n",
       "      <td>0</td>\n",
       "      <td>0</td>\n",
       "      <td>0</td>\n",
       "      <td>0</td>\n",
       "      <td>0</td>\n",
       "      <td>0</td>\n",
       "      <td>0</td>\n",
       "      <td>0</td>\n",
       "      <td>0</td>\n",
       "      <td>0</td>\n",
       "    </tr>\n",
       "    <tr>\n",
       "      <td>2</td>\n",
       "      <td>0</td>\n",
       "      <td>0</td>\n",
       "      <td>0</td>\n",
       "      <td>0</td>\n",
       "      <td>0</td>\n",
       "      <td>0</td>\n",
       "      <td>0</td>\n",
       "      <td>0</td>\n",
       "      <td>0</td>\n",
       "      <td>0</td>\n",
       "      <td>...</td>\n",
       "      <td>0</td>\n",
       "      <td>0</td>\n",
       "      <td>0</td>\n",
       "      <td>0</td>\n",
       "      <td>0</td>\n",
       "      <td>0</td>\n",
       "      <td>0</td>\n",
       "      <td>0</td>\n",
       "      <td>0</td>\n",
       "      <td>0</td>\n",
       "    </tr>\n",
       "    <tr>\n",
       "      <td>3</td>\n",
       "      <td>0</td>\n",
       "      <td>0</td>\n",
       "      <td>0</td>\n",
       "      <td>0</td>\n",
       "      <td>0</td>\n",
       "      <td>0</td>\n",
       "      <td>0</td>\n",
       "      <td>0</td>\n",
       "      <td>0</td>\n",
       "      <td>0</td>\n",
       "      <td>...</td>\n",
       "      <td>0</td>\n",
       "      <td>0</td>\n",
       "      <td>0</td>\n",
       "      <td>0</td>\n",
       "      <td>0</td>\n",
       "      <td>0</td>\n",
       "      <td>0</td>\n",
       "      <td>0</td>\n",
       "      <td>0</td>\n",
       "      <td>0</td>\n",
       "    </tr>\n",
       "    <tr>\n",
       "      <td>4</td>\n",
       "      <td>0</td>\n",
       "      <td>0</td>\n",
       "      <td>0</td>\n",
       "      <td>0</td>\n",
       "      <td>0</td>\n",
       "      <td>0</td>\n",
       "      <td>0</td>\n",
       "      <td>0</td>\n",
       "      <td>0</td>\n",
       "      <td>0</td>\n",
       "      <td>...</td>\n",
       "      <td>0</td>\n",
       "      <td>0</td>\n",
       "      <td>0</td>\n",
       "      <td>0</td>\n",
       "      <td>0</td>\n",
       "      <td>0</td>\n",
       "      <td>0</td>\n",
       "      <td>0</td>\n",
       "      <td>0</td>\n",
       "      <td>0</td>\n",
       "    </tr>\n",
       "    <tr>\n",
       "      <td>...</td>\n",
       "      <td>...</td>\n",
       "      <td>...</td>\n",
       "      <td>...</td>\n",
       "      <td>...</td>\n",
       "      <td>...</td>\n",
       "      <td>...</td>\n",
       "      <td>...</td>\n",
       "      <td>...</td>\n",
       "      <td>...</td>\n",
       "      <td>...</td>\n",
       "      <td>...</td>\n",
       "      <td>...</td>\n",
       "      <td>...</td>\n",
       "      <td>...</td>\n",
       "      <td>...</td>\n",
       "      <td>...</td>\n",
       "      <td>...</td>\n",
       "      <td>...</td>\n",
       "      <td>...</td>\n",
       "      <td>...</td>\n",
       "      <td>...</td>\n",
       "    </tr>\n",
       "    <tr>\n",
       "      <td>995</td>\n",
       "      <td>0</td>\n",
       "      <td>0</td>\n",
       "      <td>0</td>\n",
       "      <td>0</td>\n",
       "      <td>0</td>\n",
       "      <td>0</td>\n",
       "      <td>0</td>\n",
       "      <td>0</td>\n",
       "      <td>0</td>\n",
       "      <td>0</td>\n",
       "      <td>...</td>\n",
       "      <td>0</td>\n",
       "      <td>0</td>\n",
       "      <td>0</td>\n",
       "      <td>0</td>\n",
       "      <td>0</td>\n",
       "      <td>0</td>\n",
       "      <td>0</td>\n",
       "      <td>0</td>\n",
       "      <td>0</td>\n",
       "      <td>0</td>\n",
       "    </tr>\n",
       "    <tr>\n",
       "      <td>996</td>\n",
       "      <td>0</td>\n",
       "      <td>0</td>\n",
       "      <td>0</td>\n",
       "      <td>0</td>\n",
       "      <td>0</td>\n",
       "      <td>0</td>\n",
       "      <td>0</td>\n",
       "      <td>0</td>\n",
       "      <td>0</td>\n",
       "      <td>0</td>\n",
       "      <td>...</td>\n",
       "      <td>0</td>\n",
       "      <td>0</td>\n",
       "      <td>0</td>\n",
       "      <td>0</td>\n",
       "      <td>0</td>\n",
       "      <td>0</td>\n",
       "      <td>0</td>\n",
       "      <td>0</td>\n",
       "      <td>0</td>\n",
       "      <td>0</td>\n",
       "    </tr>\n",
       "    <tr>\n",
       "      <td>997</td>\n",
       "      <td>0</td>\n",
       "      <td>0</td>\n",
       "      <td>0</td>\n",
       "      <td>0</td>\n",
       "      <td>0</td>\n",
       "      <td>0</td>\n",
       "      <td>0</td>\n",
       "      <td>0</td>\n",
       "      <td>0</td>\n",
       "      <td>0</td>\n",
       "      <td>...</td>\n",
       "      <td>0</td>\n",
       "      <td>0</td>\n",
       "      <td>0</td>\n",
       "      <td>0</td>\n",
       "      <td>0</td>\n",
       "      <td>0</td>\n",
       "      <td>0</td>\n",
       "      <td>0</td>\n",
       "      <td>0</td>\n",
       "      <td>0</td>\n",
       "    </tr>\n",
       "    <tr>\n",
       "      <td>998</td>\n",
       "      <td>0</td>\n",
       "      <td>0</td>\n",
       "      <td>0</td>\n",
       "      <td>0</td>\n",
       "      <td>0</td>\n",
       "      <td>0</td>\n",
       "      <td>0</td>\n",
       "      <td>0</td>\n",
       "      <td>0</td>\n",
       "      <td>0</td>\n",
       "      <td>...</td>\n",
       "      <td>0</td>\n",
       "      <td>0</td>\n",
       "      <td>0</td>\n",
       "      <td>0</td>\n",
       "      <td>0</td>\n",
       "      <td>0</td>\n",
       "      <td>0</td>\n",
       "      <td>0</td>\n",
       "      <td>0</td>\n",
       "      <td>0</td>\n",
       "    </tr>\n",
       "    <tr>\n",
       "      <td>999</td>\n",
       "      <td>0</td>\n",
       "      <td>0</td>\n",
       "      <td>0</td>\n",
       "      <td>0</td>\n",
       "      <td>0</td>\n",
       "      <td>0</td>\n",
       "      <td>0</td>\n",
       "      <td>0</td>\n",
       "      <td>0</td>\n",
       "      <td>0</td>\n",
       "      <td>...</td>\n",
       "      <td>0</td>\n",
       "      <td>0</td>\n",
       "      <td>0</td>\n",
       "      <td>0</td>\n",
       "      <td>0</td>\n",
       "      <td>0</td>\n",
       "      <td>0</td>\n",
       "      <td>0</td>\n",
       "      <td>0</td>\n",
       "      <td>0</td>\n",
       "    </tr>\n",
       "  </tbody>\n",
       "</table>\n",
       "<p>1000 rows × 23456 columns</p>\n",
       "</div>"
      ],
      "text/plain": [
       "     aa  aaaaaaah  aaaaaah  aaaaargh  aaaah  aaah  aaargh  aah  aahing  aap  \\\n",
       "0     0         0        0         0      0     0       0    0       0    0   \n",
       "1     0         0        0         0      0     0       0    0       0    0   \n",
       "2     0         0        0         0      0     0       0    0       0    0   \n",
       "3     0         0        0         0      0     0       0    0       0    0   \n",
       "4     0         0        0         0      0     0       0    0       0    0   \n",
       "..   ..       ...      ...       ...    ...   ...     ...  ...     ...  ...   \n",
       "995   0         0        0         0      0     0       0    0       0    0   \n",
       "996   0         0        0         0      0     0       0    0       0    0   \n",
       "997   0         0        0         0      0     0       0    0       0    0   \n",
       "998   0         0        0         0      0     0       0    0       0    0   \n",
       "999   0         0        0         0      0     0       0    0       0    0   \n",
       "\n",
       "     ...  zoos  zor  zozovitch  zte  zuckerberg  zuercher  zverev  zych  \\\n",
       "0    ...     0    0          0    0           0         0       0     0   \n",
       "1    ...     0    0          0    0           0         0       0     0   \n",
       "2    ...     0    0          0    0           0         0       0     0   \n",
       "3    ...     0    0          0    0           0         0       0     0   \n",
       "4    ...     0    0          0    0           0         0       0     0   \n",
       "..   ...   ...  ...        ...  ...         ...       ...     ...   ...   \n",
       "995  ...     0    0          0    0           0         0       0     0   \n",
       "996  ...     0    0          0    0           0         0       0     0   \n",
       "997  ...     0    0          0    0           0         0       0     0   \n",
       "998  ...     0    0          0    0           0         0       0     0   \n",
       "999  ...     0    0          0    0           0         0       0     0   \n",
       "\n",
       "     zzouss  zzzzzst  \n",
       "0         0        0  \n",
       "1         0        0  \n",
       "2         0        0  \n",
       "3         0        0  \n",
       "4         0        0  \n",
       "..      ...      ...  \n",
       "995       0        0  \n",
       "996       0        0  \n",
       "997       0        0  \n",
       "998       0        0  \n",
       "999       0        0  \n",
       "\n",
       "[1000 rows x 23456 columns]"
      ]
     },
     "execution_count": 114,
     "metadata": {},
     "output_type": "execute_result"
    }
   ],
   "source": [
    "vec = CountVectorizer(token_pattern=r\"([a-zA-Z]+(?:'[a-z]+)?)\", stop_words=custom_sw)\n",
    "X = vec.fit_transform(corpus.body)\n",
    "\n",
    "df_cv = pd.DataFrame(X.toarray(), columns = vec.get_feature_names())\n",
    "df_cv"
   ]
  },
  {
   "cell_type": "code",
   "execution_count": 115,
   "metadata": {},
   "outputs": [
    {
     "data": {
      "text/plain": [
       "power        18\n",
       "nerds        11\n",
       "people        7\n",
       "companies     6\n",
       "billions      4\n",
       "facebook      4\n",
       "one           4\n",
       "also          4\n",
       "company       4\n",
       "federal       3\n",
       "Name: 313, dtype: int64"
      ]
     },
     "execution_count": 115,
     "metadata": {},
     "output_type": "execute_result"
    }
   ],
   "source": [
    "df_cv.iloc[313].sort_values(ascending=False)[:10]"
   ]
  },
  {
   "cell_type": "markdown",
   "metadata": {},
   "source": [
    "The tfidf lessoned the importance of some of the more common words, including a stopword which \"also\" which didn't make it into the stopword list.\n",
    "\n",
    "It also assigns \"nerds\" more weight than power.  "
   ]
  },
  {
   "cell_type": "code",
   "execution_count": 116,
   "metadata": {},
   "outputs": [
    {
     "name": "stdout",
     "output_type": "stream",
     "text": [
      "Nerds only shows up in document 313: 1\n",
      "Power shows up in 147\n"
     ]
    }
   ],
   "source": [
    "print(f'Nerds only shows up in document 313: {len(df_cv[df.nerds!=0])}')\n",
    "print(f'Power shows up in {len(df_cv[df.power!=0])}')"
   ]
  },
  {
   "cell_type": "code",
   "execution_count": 117,
   "metadata": {},
   "outputs": [
    {
     "data": {
      "text/plain": [
       "{'noting': 14227,\n",
       " 'resignation': 17452,\n",
       " 'james': 11082,\n",
       " 'mattis': 12875,\n",
       " 'secretary': 18491,\n",
       " 'defense': 5327,\n",
       " 'marked': 12752,\n",
       " 'ouster': 14710,\n",
       " 'third': 21060,\n",
       " 'top': 21289,\n",
       " 'administration': 293,\n",
       " 'official': 14444,\n",
       " 'less': 12041,\n",
       " 'three': 21094,\n",
       " 'weeks': 22857,\n",
       " 'worried': 23184,\n",
       " 'populace': 15783,\n",
       " 'told': 21255,\n",
       " 'reporters': 17364,\n",
       " 'friday': 8388,\n",
       " 'unsure': 22124,\n",
       " 'many': 12704,\n",
       " 'former': 8260,\n",
       " 'trump': 21631,\n",
       " 'staffers': 19830,\n",
       " 'safely': 18071,\n",
       " 'reabsorb': 16837,\n",
       " 'jesus': 11158,\n",
       " 'take': 20691,\n",
       " 'back': 1540,\n",
       " 'assholes': 1254,\n",
       " 'need': 13935,\n",
       " 'time': 21175,\n",
       " 'process': 16145,\n",
       " 'one': 14515,\n",
       " 'get': 8761,\n",
       " 'next': 14044,\n",
       " 'said': 18087,\n",
       " 'year': 23299,\n",
       " 'old': 14476,\n",
       " 'gregory': 9105,\n",
       " 'birch': 2136,\n",
       " 'naperville': 13829,\n",
       " 'il': 10219,\n",
       " 'echoing': 6554,\n",
       " 'concerns': 4203,\n",
       " 'million': 13239,\n",
       " 'americans': 723,\n",
       " 'also': 658,\n",
       " 'country': 4673,\n",
       " 'truly': 21630,\n",
       " 'beginning': 1905,\n",
       " 'reintegrate': 17181,\n",
       " 'national': 13869,\n",
       " 'security': 18509,\n",
       " 'advisor': 365,\n",
       " 'michael': 13157,\n",
       " 'flynn': 8140,\n",
       " 'sustainable': 20526,\n",
       " 'handle': 9391,\n",
       " 'maybe': 12899,\n",
       " 'two': 21761,\n",
       " 'members': 13033,\n",
       " 'inner': 10654,\n",
       " 'circle': 3622,\n",
       " 'remainder': 17247,\n",
       " 'limits': 12175,\n",
       " 'u': 21781,\n",
       " 'confirmed': 4262,\n",
       " 'pieces': 15465,\n",
       " 'shit': 18876,\n",
       " 'trying': 21648,\n",
       " 'rejoin': 17196,\n",
       " 'society': 19401,\n",
       " 'desperate': 5612,\n",
       " 'unwind': 22152,\n",
       " 'months': 13508,\n",
       " 'nonstop': 14170,\n",
       " 'work': 23163,\n",
       " 'investigating': 10906,\n",
       " 'russian': 18012,\n",
       " 'influence': 10581,\n",
       " 'election': 6660,\n",
       " 'visibly': 22538,\n",
       " 'exhausted': 7344,\n",
       " 'special': 19601,\n",
       " 'counsel': 4656,\n",
       " 'robert': 17791,\n",
       " 'mueller': 13660,\n",
       " 'powered': 15892,\n",
       " 'phone': 15414,\n",
       " 'order': 14630,\n",
       " 'give': 8823,\n",
       " 'break': 2565,\n",
       " 'news': 14035,\n",
       " 'concerning': 4202,\n",
       " 'probe': 16132,\n",
       " 'holiday': 9844,\n",
       " 'last': 11835,\n",
       " 'thing': 21048,\n",
       " 'want': 22723,\n",
       " 'spending': 19650,\n",
       " 'family': 7624,\n",
       " 'cascade': 3151,\n",
       " 'push': 16490,\n",
       " 'notifications': 14224,\n",
       " 'telling': 20885,\n",
       " 'yet': 23326,\n",
       " 'another': 885,\n",
       " 'oligarch': 14487,\n",
       " 'political': 15734,\n",
       " 'operative': 14566,\n",
       " 'highly': 9750,\n",
       " 'placed': 15558,\n",
       " 'socialite': 19397,\n",
       " 'used': 22232,\n",
       " 'deutsche': 5688,\n",
       " 'bank': 1676,\n",
       " 'channels': 3382,\n",
       " 'funnel': 8495,\n",
       " 'money': 13472,\n",
       " 'campaign': 2971,\n",
       " 'fbi': 7736,\n",
       " 'director': 5870,\n",
       " 'firmly': 7978,\n",
       " 'holding': 9838,\n",
       " 'power': 15891,\n",
       " 'button': 2865,\n",
       " 'adding': 256,\n",
       " 'wants': 22726,\n",
       " 'completely': 4131,\n",
       " 'present': 16003,\n",
       " 'moment': 13454,\n",
       " 'celebrating': 3264,\n",
       " 'loved': 12394,\n",
       " 'ones': 14517,\n",
       " 'ruminating': 17977,\n",
       " 'met': 13110,\n",
       " 'diplomat': 5855,\n",
       " 'whether': 22936,\n",
       " 'someone': 19463,\n",
       " 'using': 22243,\n",
       " 'social': 19391,\n",
       " 'media': 12974,\n",
       " 'tamper': 20728,\n",
       " 'witnesses': 23115,\n",
       " 'calm': 2949,\n",
       " 'even': 7225,\n",
       " 'think': 21052,\n",
       " 'individual': 10506,\n",
       " 'name': 13815,\n",
       " 'wait': 22676,\n",
       " 'hear': 9573,\n",
       " 'important': 10340,\n",
       " 'developments': 5703,\n",
       " 'january': 11101,\n",
       " 'since': 19084,\n",
       " 'know': 11617,\n",
       " 'second': 18482,\n",
       " 'read': 16853,\n",
       " 'something': 19466,\n",
       " 'eric': 7091,\n",
       " 'involved': 10932,\n",
       " 'deeply': 5296,\n",
       " 'previously': 16053,\n",
       " 'suspected': 20512,\n",
       " 'pulled': 16403,\n",
       " 'ruin': 17960,\n",
       " 'whole': 22976,\n",
       " 'vacation': 22275,\n",
       " 'press': 16019,\n",
       " 'reactivated': 16849,\n",
       " 'check': 3449,\n",
       " 'real': 16870,\n",
       " 'quick': 16604,\n",
       " 'nearly': 13920,\n",
       " 'halfway': 9340,\n",
       " 'presidential': 16017,\n",
       " 'term': 20939,\n",
       " 'donald': 6216,\n",
       " 'continued': 4456,\n",
       " 'exist': 7355,\n",
       " 'perpetual': 15308,\n",
       " 'state': 19912,\n",
       " 'controversy': 4495,\n",
       " 'provided': 16335,\n",
       " 'shortage': 18913,\n",
       " 'outrageous': 14750,\n",
       " 'moments': 13457,\n",
       " 'onion': 14522,\n",
       " 'looks': 12344,\n",
       " 'significant': 19038,\n",
       " 'events': 7230,\n",
       " 'presidency': 16015,\n",
       " 'attempting': 1341,\n",
       " 'make': 12592,\n",
       " 'amends': 719,\n",
       " 'gross': 9151,\n",
       " 'abuses': 101,\n",
       " 'interior': 10819,\n",
       " 'department': 5520,\n",
       " 'unusually': 22142,\n",
       " 'contrite': 4486,\n",
       " 'ryan': 18023,\n",
       " 'zinke': 23432,\n",
       " 'apologized': 957,\n",
       " 'monday': 13467,\n",
       " 'misusing': 13357,\n",
       " 'government': 8991,\n",
       " 'funds': 8490,\n",
       " 'sending': 18588,\n",
       " 'ethics': 7172,\n",
       " 'committee': 4045,\n",
       " 'vase': 22334,\n",
       " 'change': 3377,\n",
       " 'anything': 931,\n",
       " 'exploited': 7423,\n",
       " 'cabinet': 2896,\n",
       " 'position': 15831,\n",
       " 'hope': 9922,\n",
       " 'accept': 121,\n",
       " 'beautiful': 1863,\n",
       " 'example': 7279,\n",
       " 'qing': 16542,\n",
       " 'dynasty': 6491,\n",
       " 'porcelain': 15797,\n",
       " 'small': 19287,\n",
       " 'token': 21252,\n",
       " 'regret': 17135,\n",
       " 'acknowledging': 198,\n",
       " 'gift': 8792,\n",
       " 'spent': 19652,\n",
       " 'taxpayer': 20805,\n",
       " 'renovate': 17307,\n",
       " 'office': 14440,\n",
       " 'doors': 6244,\n",
       " 'hoped': 9923,\n",
       " 'would': 23202,\n",
       " 'consider': 4344,\n",
       " 'sincere': 19085,\n",
       " 'gesture': 8757,\n",
       " 'apology': 958,\n",
       " 'wrong': 23237,\n",
       " 'advantage': 337,\n",
       " 'lustrous': 12463,\n",
       " 'glazing': 8843,\n",
       " 'firing': 7974,\n",
       " 'evident': 7249,\n",
       " 'piece': 15463,\n",
       " 'move': 13611,\n",
       " 'forgive': 8242,\n",
       " 'human': 10047,\n",
       " 'failings': 7580,\n",
       " 'please': 15620,\n",
       " 'remember': 17262,\n",
       " 'man': 12631,\n",
       " 'detail': 5642,\n",
       " 'turkey': 21702,\n",
       " 'violated': 22506,\n",
       " 'hatch': 9503,\n",
       " 'act': 218,\n",
       " 'acted': 219,\n",
       " 'pawn': 15149,\n",
       " 'oil': 14465,\n",
       " 'gas': 8619,\n",
       " 'industry': 10534,\n",
       " 'rather': 16800,\n",
       " 'eyes': 7520,\n",
       " 'happen': 9419,\n",
       " 'fall': 7605,\n",
       " 'unique': 22010,\n",
       " 'kaolin': 11394,\n",
       " 'clay': 3717,\n",
       " 'bought': 2470,\n",
       " 'mercedes': 13070,\n",
       " 'benz': 2000,\n",
       " 'sedans': 18511,\n",
       " 'find': 7938,\n",
       " 'parking': 15026,\n",
       " 'lot': 12375,\n",
       " 'leave': 11942,\n",
       " 'today': 21241,\n",
       " 'plans': 15584,\n",
       " 'apologize': 956,\n",
       " 'person': 15323,\n",
       " 'member': 13032,\n",
       " 'visiting': 22543,\n",
       " 'homes': 9870,\n",
       " 'helicopter': 9641,\n",
       " 'decrying': 5281,\n",
       " 'senate': 18584,\n",
       " 'resolution': 17464,\n",
       " 'blaming': 2196,\n",
       " 'crown': 4881,\n",
       " 'prince': 16085,\n",
       " 'brutal': 2707,\n",
       " 'torture': 21321,\n",
       " 'murder': 13713,\n",
       " 'journalist': 11259,\n",
       " 'jamal': 11081,\n",
       " 'khashoggi': 11496,\n",
       " 'cruel': 4891,\n",
       " 'inhumane': 10627,\n",
       " 'unprecedented': 22064,\n",
       " 'interference': 10815,\n",
       " 'sovereign': 19539,\n",
       " 'kingdom': 11551,\n",
       " 'internal': 10828,\n",
       " 'affairs': 385,\n",
       " 'launched': 11860,\n",
       " 'rights': 17709,\n",
       " 'investigation': 10907,\n",
       " 'harsh': 9478,\n",
       " 'treatment': 21523,\n",
       " 'saudi': 18233,\n",
       " 'ruler': 17969,\n",
       " 'mohammad': 13436,\n",
       " 'bin': 2114,\n",
       " 'salman': 18121,\n",
       " 'looking': 12342,\n",
       " 'troubling': 21613,\n",
       " 'accusations': 175,\n",
       " 'united': 22017,\n",
       " 'states': 19917,\n",
       " 'chosen': 3574,\n",
       " 'willfully': 23025,\n",
       " 'knowingly': 11620,\n",
       " 'place': 15557,\n",
       " 'fault': 7716,\n",
       " 'dissident': 6075,\n",
       " 'president': 16016,\n",
       " 'claiming': 3666,\n",
       " 'despot': 5620,\n",
       " 'made': 12516,\n",
       " 'endure': 6886,\n",
       " 'loss': 12372,\n",
       " 'military': 13221,\n",
       " 'funding': 8488,\n",
       " 'ongoing': 14521,\n",
       " 'war': 22728,\n",
       " 'yemen': 23316,\n",
       " 'left': 11960,\n",
       " 'millions': 13241,\n",
       " 'homeless': 9868,\n",
       " 'starving': 19909,\n",
       " 'matter': 12870,\n",
       " 'whose': 22986,\n",
       " 'dismemberment': 6009,\n",
       " 'may': 12897,\n",
       " 'ordered': 14631,\n",
       " 'facing': 7550,\n",
       " 'criticism': 4845,\n",
       " 'like': 12152,\n",
       " 'international': 10830,\n",
       " 'stage': 19834,\n",
       " 'powerful': 15893,\n",
       " 'leader': 11910,\n",
       " 'basically': 1775,\n",
       " 'kind': 11542,\n",
       " 'mistreatment': 13351,\n",
       " 'seriously': 18660,\n",
       " 'treat': 21519,\n",
       " 'authoritarian': 1414,\n",
       " 'regimes': 17121,\n",
       " 'purchase': 16455,\n",
       " 'weapons': 22823,\n",
       " 'without': 23111,\n",
       " 'billions': 2109,\n",
       " 'dollars': 6200,\n",
       " 'aid': 476,\n",
       " 'regime': 17120,\n",
       " 'supposed': 20449,\n",
       " 'maintain': 12574,\n",
       " 'basic': 1774,\n",
       " 'standard': 19871,\n",
       " 'living': 12261,\n",
       " 'expected': 7378,\n",
       " 'charge': 3406,\n",
       " 'american': 722,\n",
       " 'senators': 18586,\n",
       " 'crimes': 4816,\n",
       " 'humanity': 10051,\n",
       " 'role': 17832,\n",
       " 'responsible': 17499,\n",
       " 'actions': 222,\n",
       " 'following': 8173,\n",
       " 'sentencing': 18617,\n",
       " 'hush': 10104,\n",
       " 'scandal': 18272,\n",
       " 'cohen': 3891,\n",
       " 'granted': 9045,\n",
       " 'prison': 16107,\n",
       " 'release': 17214,\n",
       " 'new': 14025,\n",
       " 'job': 11201,\n",
       " 'sources': 19522,\n",
       " 'wednesday': 22849,\n",
       " 'confident': 4254,\n",
       " 'engaging': 6903,\n",
       " 'honest': 9889,\n",
       " 'help': 9653,\n",
       " 'mr': 13631,\n",
       " 'rehabilitation': 17154,\n",
       " 'warden': 22731,\n",
       " 'pete': 15360,\n",
       " 'clements': 3743,\n",
       " 'opportunity': 14585,\n",
       " 'serving': 18673,\n",
       " 'see': 18517,\n",
       " 'error': 7109,\n",
       " 'past': 15088,\n",
       " 'behaviors': 1915,\n",
       " 'arrives': 1148,\n",
       " 'march': 12722,\n",
       " 'bused': 2836,\n",
       " 'penitentiary': 15237,\n",
       " 'manhattan': 12664,\n",
       " 'eight': 6631,\n",
       " 'hour': 9990,\n",
       " 'day': 5169,\n",
       " 'returning': 17575,\n",
       " 'night': 14096,\n",
       " 'strict': 20156,\n",
       " 'supervision': 20430,\n",
       " 'furloughs': 8507,\n",
       " 'allow': 623,\n",
       " 'use': 22231,\n",
       " 'skills': 19164,\n",
       " 'betterment': 2048,\n",
       " 'community': 4070,\n",
       " 'chance': 3372,\n",
       " 'added': 251,\n",
       " 'request': 17400,\n",
       " 'rnc': 17771,\n",
       " 'deputy': 5564,\n",
       " 'finance': 7930,\n",
       " 'chairman': 3344,\n",
       " 'denied': 5482,\n",
       " 'environment': 7027,\n",
       " 'easy': 6531,\n",
       " 'backslide': 1565,\n",
       " 'criminality': 4820,\n",
       " 'grimacing': 9129,\n",
       " 'clutching': 3828,\n",
       " 'shoulder': 18929,\n",
       " 'fox': 8307,\n",
       " 'nfl': 14046,\n",
       " 'announcer': 869,\n",
       " 'joe': 11212,\n",
       " 'buck': 2725,\n",
       " 'tore': 21304,\n",
       " 'rotator': 17895,\n",
       " 'cuff': 4940,\n",
       " 'awkward': 1495,\n",
       " 'throw': 21111,\n",
       " 'sideline': 19001,\n",
       " 'quarter': 16572,\n",
       " 'buccaneers': 2722,\n",
       " 'vs': 22641,\n",
       " 'cowboys': 4722,\n",
       " 'game': 8584,\n",
       " 'hate': 9505,\n",
       " 'go': 8897,\n",
       " 'especially': 7133,\n",
       " 'routine': 17915,\n",
       " 'erin': 7094,\n",
       " 'field': 7872,\n",
       " 'conditions': 4236,\n",
       " 'thousand': 21086,\n",
       " 'times': 21183,\n",
       " 'commentator': 4022,\n",
       " 'troy': 21620,\n",
       " 'aikman': 484,\n",
       " 'went': 22894,\n",
       " 'hard': 9438,\n",
       " 'stumbling': 20217,\n",
       " 'first': 7980,\n",
       " 'words': 23160,\n",
       " 'sentence': 18614,\n",
       " 'still': 20006,\n",
       " 'ground': 9157,\n",
       " 'writhing': 23234,\n",
       " 'pain': 14895,\n",
       " 'update': 22158,\n",
       " 'mouth': 13606,\n",
       " 'look': 12340,\n",
       " 'right': 17706,\n",
       " 'twisted': 21756,\n",
       " 'awkwardly': 1496,\n",
       " 'shock': 18886,\n",
       " 'crossed': 4867,\n",
       " 'face': 7535,\n",
       " 'bad': 1578,\n",
       " 'saw': 18252,\n",
       " 'al': 521,\n",
       " 'michaels': 13158,\n",
       " 'tear': 20824,\n",
       " 'acl': 199,\n",
       " 'touchdown': 21340,\n",
       " 'call': 2942,\n",
       " 'way': 22804,\n",
       " 'going': 8925,\n",
       " 'announcing': 872,\n",
       " 'least': 11941,\n",
       " 'month': 13506,\n",
       " 'treated': 21520,\n",
       " 'concussion': 4225,\n",
       " 'analyze': 790,\n",
       " 'play': 15602,\n",
       " 'conversion': 4515,\n",
       " 'categorically': 3204,\n",
       " 'denying': 5516,\n",
       " 'allegations': 599,\n",
       " 'tactic': 20665,\n",
       " 'unconstitutional': 21860,\n",
       " 'unfairly': 21953,\n",
       " 'targeted': 20760,\n",
       " 'players': 15607,\n",
       " 'protested': 16316,\n",
       " 'anthem': 900,\n",
       " 'commissioner': 4036,\n",
       " 'roger': 17823,\n",
       " 'goodell': 8949,\n",
       " 'released': 17215,\n",
       " 'statement': 19915,\n",
       " 'sunday': 20388,\n",
       " 'defending': 5325,\n",
       " 'subject': 20243,\n",
       " 'panthers': 14958,\n",
       " 'safety': 18075,\n",
       " 'reid': 17159,\n",
       " 'random': 16742,\n",
       " 'stop': 20059,\n",
       " 'frisk': 8408,\n",
       " 'searches': 18458,\n",
       " 'simply': 19077,\n",
       " 'keep': 11441,\n",
       " 'clean': 3720,\n",
       " 'provide': 16334,\n",
       " 'safe': 18066,\n",
       " 'benefits': 1985,\n",
       " 'case': 3153,\n",
       " 'received': 16935,\n",
       " 'anonymous': 882,\n",
       " 'tip': 21204,\n",
       " 'suspicious': 20522,\n",
       " 'mask': 12807,\n",
       " 'obscuring': 14361,\n",
       " 'acting': 220,\n",
       " 'aggressively': 443,\n",
       " 'towards': 21364,\n",
       " 'decided': 5242,\n",
       " 'inform': 10588,\n",
       " 'proper': 16256,\n",
       " 'authorities': 1417,\n",
       " 'conference': 4243,\n",
       " 'advised': 360,\n",
       " 'loitering': 12319,\n",
       " 'line': 12184,\n",
       " 'scrimmage': 18415,\n",
       " 'sensitive': 18605,\n",
       " 'areas': 1080,\n",
       " 'avoid': 1468,\n",
       " 'similar': 19062,\n",
       " 'incidents': 10415,\n",
       " 'moving': 13619,\n",
       " 'forward': 8287,\n",
       " 'described': 5585,\n",
       " 'unidentified': 21988,\n",
       " 'object': 14339,\n",
       " 'hands': 9402,\n",
       " 'description': 5588,\n",
       " 'prompted': 16237,\n",
       " 'officials': 14448,\n",
       " 'detain': 5646,\n",
       " 'perform': 15270,\n",
       " 'thorough': 21077,\n",
       " 'strip': 20171,\n",
       " 'search': 18456,\n",
       " 'relieved': 17231,\n",
       " 'discover': 5938,\n",
       " 'football': 8190,\n",
       " 'single': 19096,\n",
       " 'player': 15606,\n",
       " 'code': 3871,\n",
       " 'conduct': 4238,\n",
       " 'teammates': 20822,\n",
       " 'currently': 4983,\n",
       " 'held': 9638,\n",
       " 'questioning': 16595,\n",
       " 'suspicion': 20520,\n",
       " 'gang': 8591,\n",
       " 'related': 17199,\n",
       " 'activity': 230,\n",
       " 'eyewitnesses': 7523,\n",
       " 'observed': 14366,\n",
       " 'wearing': 22826,\n",
       " 'clothes': 3807,\n",
       " 'bearing': 1850,\n",
       " 'colors': 3965,\n",
       " 'threatening': 21091,\n",
       " 'logo': 12314,\n",
       " 'quashing': 16577,\n",
       " 'rumors': 17979,\n",
       " 'team': 20821,\n",
       " 'early': 6505,\n",
       " 'exit': 7362,\n",
       " 'las': 11829,\n",
       " 'vegas': 22347,\n",
       " 'oakland': 14321,\n",
       " 'raiders': 16686,\n",
       " 'announced': 866,\n",
       " 'entirety': 6999,\n",
       " 'home': 9864,\n",
       " 'schedule': 18309,\n",
       " 'head': 9545,\n",
       " 'coach': 3837,\n",
       " 'jon': 11238,\n",
       " 'gruden': 9176,\n",
       " 'backyard': 1573,\n",
       " 'really': 16885,\n",
       " 'perfect': 15268,\n",
       " 'venue': 22381,\n",
       " 'fact': 7551,\n",
       " 'playing': 15610,\n",
       " 'yard': 23292,\n",
       " 'nowhere': 14253,\n",
       " 'else': 6709,\n",
       " 'league': 11920,\n",
       " 'proposed': 16271,\n",
       " 'half': 9339,\n",
       " 'acre': 213,\n",
       " 'plot': 15645,\n",
       " 'nestled': 13990,\n",
       " 'bay': 1823,\n",
       " 'area': 1079,\n",
       " 'suburbs': 20293,\n",
       " 'boasted': 2309,\n",
       " 'natural': 13889,\n",
       " 'surface': 20465,\n",
       " 'enough': 6949,\n",
       " 'improvised': 10379,\n",
       " 'seating': 18473,\n",
       " 'accommodate': 137,\n",
       " 'dozens': 6310,\n",
       " 'hardcore': 9439,\n",
       " 'faithful': 7596,\n",
       " 'mistake': 13348,\n",
       " 'rocking': 17813,\n",
       " 'mean': 12942,\n",
       " 'derek': 5570,\n",
       " 'carr': 3118,\n",
       " 'delivering': 5413,\n",
       " 'strikes': 20166,\n",
       " 'deck': 5253,\n",
       " 'plus': 15666,\n",
       " 'fans': 7640,\n",
       " 'love': 12393,\n",
       " 'amenities': 720,\n",
       " 'room': 17866,\n",
       " 'black': 2172,\n",
       " 'hole': 9841,\n",
       " 'garbage': 8602,\n",
       " 'cans': 3027,\n",
       " 'got': 8976,\n",
       " 'bathrooms': 1799,\n",
       " 'crockpot': 4854,\n",
       " 'full': 8468,\n",
       " 'chili': 3516,\n",
       " 'house': 9992,\n",
       " 'better': 2047,\n",
       " 'spend': 19649,\n",
       " 'several': 18700,\n",
       " 'admitted': 306,\n",
       " 'despite': 5618,\n",
       " 'treacherous': 21509,\n",
       " 'clothesline': 3808,\n",
       " 'exposed': 7444,\n",
       " 'tree': 21527,\n",
       " 'roots': 17874,\n",
       " 'far': 7644,\n",
       " 'preferable': 15960,\n",
       " 'games': 8587,\n",
       " 'goddamn': 8909,\n",
       " 'baseball': 1767,\n",
       " 'humane': 10048,\n",
       " 'deal': 5193,\n",
       " 'suffering': 20332,\n",
       " 'cleveland': 3748,\n",
       " 'browns': 2691,\n",
       " 'tuesday': 21667,\n",
       " 'euthanized': 7211,\n",
       " 'dawg': 5165,\n",
       " 'pound': 15880,\n",
       " 'rabies': 16641,\n",
       " 'outbreak': 14713,\n",
       " 'part': 15041,\n",
       " 'heartbroken': 9582,\n",
       " 'cutting': 5019,\n",
       " 'lives': 12258,\n",
       " 'short': 18912,\n",
       " 'putting': 16512,\n",
       " 'option': 14611,\n",
       " 'owner': 14843,\n",
       " 'jimmy': 11187,\n",
       " 'haslam': 9492,\n",
       " 'revealed': 17591,\n",
       " 'concern': 4200,\n",
       " 'piqued': 15524,\n",
       " 'began': 1897,\n",
       " 'chewing': 3493,\n",
       " 'plastic': 15593,\n",
       " 'seats': 18474,\n",
       " 'salivating': 18118,\n",
       " 'uncontrollably': 21862,\n",
       " 'discovered': 5939,\n",
       " 'late': 11840,\n",
       " 'cure': 4973,\n",
       " 'administered': 292,\n",
       " 'put': 16498,\n",
       " 'seemed': 18530,\n",
       " 'fun': 8476,\n",
       " 'approachable': 1016,\n",
       " 'getting': 8765,\n",
       " 'aggressive': 442,\n",
       " 'bit': 2153,\n",
       " 'seem': 18529,\n",
       " 'quality': 16562,\n",
       " 'life': 12125,\n",
       " 'never': 14019,\n",
       " 'battling': 1818,\n",
       " 'constant': 4374,\n",
       " 'seizures': 18549,\n",
       " 'hydrophobia': 10121,\n",
       " 'resulting': 17531,\n",
       " 'making': 12598,\n",
       " 'impossible': 10354,\n",
       " 'drink': 6367,\n",
       " 'beer': 1887,\n",
       " 'emphasized': 6798,\n",
       " 'sadness': 18065,\n",
       " 'mercy': 13077,\n",
       " 'killing': 11534,\n",
       " 'assured': 1283,\n",
       " 'comfort': 3997,\n",
       " 'knowing': 11619,\n",
       " 'suffer': 20330,\n",
       " 'recognition': 16966,\n",
       " 'brave': 2544,\n",
       " 'altruistic': 679,\n",
       " 'risk': 17746,\n",
       " 'health': 9568,\n",
       " 'greater': 9080,\n",
       " 'good': 8947,\n",
       " 'pentagon': 15247,\n",
       " 'thursday': 21131,\n",
       " 'honor': 9899,\n",
       " 'sacrifices': 18051,\n",
       " 'jerseys': 11155,\n",
       " 'throughout': 21110,\n",
       " 'december': 5234,\n",
       " 'every': 7238,\n",
       " 'week': 22852,\n",
       " 'men': 13047,\n",
       " 'gridiron': 9115,\n",
       " 'bodies': 2320,\n",
       " 'soldiers': 19434,\n",
       " 'wear': 22824,\n",
       " 'caps': 3059,\n",
       " 'show': 18937,\n",
       " 'support': 20441,\n",
       " 'spokesperson': 19715,\n",
       " 'amato': 692,\n",
       " 'active': 223,\n",
       " 'duty': 6472,\n",
       " 'sporting': 19728,\n",
       " 'gear': 8663,\n",
       " 'teams': 20823,\n",
       " 'raise': 16699,\n",
       " 'awareness': 1489,\n",
       " 'people': 15250,\n",
       " 'aside': 1203,\n",
       " 'preserve': 16009,\n",
       " 'families': 7623,\n",
       " 'travel': 21498,\n",
       " 'cities': 3647,\n",
       " 'across': 217,\n",
       " 'uphold': 22171,\n",
       " 'nation': 13868,\n",
       " 'traditions': 21407,\n",
       " 'battered': 1808,\n",
       " 'bruised': 2696,\n",
       " 'years': 23303,\n",
       " 'often': 14458,\n",
       " 'cut': 5013,\n",
       " 'sit': 19124,\n",
       " 'barracks': 1739,\n",
       " 'enjoy': 6928,\n",
       " 'freedom': 8359,\n",
       " 'end': 6861,\n",
       " 'service': 18669,\n",
       " 'hopefully': 9925,\n",
       " 'shows': 18947,\n",
       " 'officers': 14442,\n",
       " 'true': 21628,\n",
       " 'heroes': 9700,\n",
       " 'welling': 22886,\n",
       " 'emotion': 6785,\n",
       " 'upon': 22180,\n",
       " 'finally': 7928,\n",
       " 'setting': 18682,\n",
       " 'foot': 8188,\n",
       " 'hallowed': 9346,\n",
       " 'tile': 21169,\n",
       " 'college': 3941,\n",
       " 'senior': 18592,\n",
       " 'anthony': 901,\n",
       " 'harper': 9470,\n",
       " 'fulfilled': 8464,\n",
       " 'lifelong': 12130,\n",
       " 'dream': 6346,\n",
       " 'saturday': 18230,\n",
       " 'allowed': 626,\n",
       " 'shower': 18943,\n",
       " 'notre': 14231,\n",
       " 'dame': 5078,\n",
       " 'showers': 18944,\n",
       " 'knew': 11603,\n",
       " 'worked': 23166,\n",
       " 'quit': 16621,\n",
       " 'takes': 20697,\n",
       " 'lather': 11844,\n",
       " 'ovation': 14764,\n",
       " 'brian': 2603,\n",
       " 'kelly': 11451,\n",
       " 'tossed': 21327,\n",
       " 'conditioner': 4234,\n",
       " 'bench': 1969,\n",
       " 'locker': 12296,\n",
       " 'watch': 22782,\n",
       " 'wishing': 23093,\n",
       " 'always': 684,\n",
       " 'thought': 21081,\n",
       " 'soap': 19383,\n",
       " 'goes': 8918,\n",
       " 'grit': 9143,\n",
       " 'determination': 5667,\n",
       " 'anyone': 930,\n",
       " 'achieve': 186,\n",
       " 'bathe': 1794,\n",
       " 'entire': 6997,\n",
       " 'witness': 23113,\n",
       " 'announcement': 867,\n",
       " 'perceived': 15259,\n",
       " 'major': 12587,\n",
       " 'reassurance': 16907,\n",
       " 'parents': 15013,\n",
       " 'children': 3514,\n",
       " 'low': 12400,\n",
       " 'cognitive': 3889,\n",
       " 'abilities': 49,\n",
       " 'subpar': 20259,\n",
       " 'reasoning': 16902,\n",
       " 'pediatric': 15198,\n",
       " 'experts': 7403,\n",
       " 'report': 17359,\n",
       " 'claims': 3667,\n",
       " 'contact': 4413,\n",
       " 'poses': 15825,\n",
       " 'little': 12246,\n",
       " 'brains': 2521,\n",
       " 'already': 656,\n",
       " 'well': 22882,\n",
       " 'tackle': 20662,\n",
       " 'long': 12331,\n",
       " 'known': 11622,\n",
       " 'high': 9742,\n",
       " 'sport': 19726,\n",
       " 'particularly': 15051,\n",
       " 'poor': 15771,\n",
       " 'guys': 9280,\n",
       " 'knuckle': 11624,\n",
       " 'draggers': 6320,\n",
       " 'away': 1490,\n",
       " 'lose': 12367,\n",
       " 'university': 22027,\n",
       " 'chicago': 3497,\n",
       " 'childhood': 3512,\n",
       " 'development': 5701,\n",
       " 'expert': 7402,\n",
       " 'dr': 6313,\n",
       " 'maureen': 12883,\n",
       " 'clifford': 3759,\n",
       " 'neuropathological': 14006,\n",
       " 'research': 17419,\n",
       " 'led': 11953,\n",
       " 'conclusion': 4215,\n",
       " 'chronic': 3592,\n",
       " 'traumatic': 21496,\n",
       " 'encephalopathy': 6839,\n",
       " 'caused': 3226,\n",
       " 'repeated': 17335,\n",
       " 'severe': 18701,\n",
       " 'impacts': 10296,\n",
       " 'mitigated': 13362,\n",
       " 'percent': 15260,\n",
       " 'cases': 3154,\n",
       " 'youth': 23363,\n",
       " 'presented': 16005,\n",
       " 'signs': 19043,\n",
       " 'huge': 10036,\n",
       " 'dumbass': 6436,\n",
       " 'clearly': 3737,\n",
       " 'couple': 4679,\n",
       " 'screws': 18412,\n",
       " 'loose': 12349,\n",
       " 'course': 4691,\n",
       " 'cte': 4927,\n",
       " 'danger': 5098,\n",
       " 'comes': 3996,\n",
       " 'sports': 19729,\n",
       " 'ages': 435,\n",
       " 'crucial': 4885,\n",
       " 'healthy': 9570,\n",
       " 'neurological': 14004,\n",
       " 'growth': 9174,\n",
       " 'symptoms': 20622,\n",
       " 'mood': 13514,\n",
       " 'swings': 20585,\n",
       " 'difficult': 5800,\n",
       " 'thinking': 21054,\n",
       " 'memory': 13046,\n",
       " 'sounds': 19515,\n",
       " 'kid': 11514,\n",
       " 'precious': 15934,\n",
       " 'dude': 6424,\n",
       " 'bonehead': 2379,\n",
       " 'blocking': 2256,\n",
       " 'tackling': 20663,\n",
       " 'hit': 9805,\n",
       " 'crossing': 4870,\n",
       " 'routes': 17914,\n",
       " 'reasons': 16903,\n",
       " 'idiot': 10187,\n",
       " 'study': 20210,\n",
       " 'concluded': 4213,\n",
       " 'halfwits': 9341,\n",
       " 'shot': 18925,\n",
       " 'success': 20300,\n",
       " 'staring': 19889,\n",
       " 'wide': 22994,\n",
       " 'eyed': 7516,\n",
       " 'table': 20650,\n",
       " 'unopened': 22058,\n",
       " 'presents': 16008,\n",
       " 'largely': 11822,\n",
       " 'ignored': 10213,\n",
       " 'guests': 9225,\n",
       " 'local': 12287,\n",
       " 'rick': 17682,\n",
       " 'joseph': 11251,\n",
       " 'reportedly': 17362,\n",
       " 'watched': 22784,\n",
       " 'helplessly': 9659,\n",
       " 'white': 22965,\n",
       " 'elephant': 6678,\n",
       " 'exchange': 7298,\n",
       " 'devolved': 5720,\n",
       " 'friends': 8394,\n",
       " 'chatting': 3437,\n",
       " 'nice': 14058,\n",
       " 'christ': 3579,\n",
       " 'turn': 21708,\n",
       " 'pick': 15447,\n",
       " 'ago': 450,\n",
       " 'derailed': 5567,\n",
       " 'everyone': 7241,\n",
       " 'blabbing': 2171,\n",
       " 'fucking': 8450,\n",
       " 'christmas': 3588,\n",
       " 'forced': 8206,\n",
       " 'listen': 12224,\n",
       " 'engaged': 6900,\n",
       " 'pleasant': 15619,\n",
       " 'conversations': 4513,\n",
       " 'favorite': 7721,\n",
       " 'recipes': 16946,\n",
       " 'beloved': 1961,\n",
       " 'memories': 13044,\n",
       " 'festive': 7842,\n",
       " 'season': 18466,\n",
       " 'ugh': 21789,\n",
       " 'disaster': 5905,\n",
       " 'chumps': 3597,\n",
       " 'strategizing': 20121,\n",
       " 'screw': 18410,\n",
       " 'best': 2030,\n",
       " 'instead': 10728,\n",
       " 'wasting': 22780,\n",
       " 'bond': 2375,\n",
       " ...}"
      ]
     },
     "execution_count": 117,
     "metadata": {},
     "output_type": "execute_result"
    }
   ],
   "source": [
    "tf_vec.vocabulary_"
   ]
  },
  {
   "cell_type": "markdown",
   "metadata": {},
   "source": [
    "# Pair: \n",
    "\n",
    "For a final exercise, work through in pairs the following exercise."
   ]
  },
  {
   "cell_type": "markdown",
   "metadata": {},
   "source": [
    "Create a document term matrix of the 1000 document corpus.  The vocabulary should have no stopwords, no numbers, no punctuation, and be lemmatized.  The Document-Term Matrix should be created using tfidf."
   ]
  },
  {
   "cell_type": "code",
   "execution_count": null,
   "metadata": {},
   "outputs": [],
   "source": [
    "#__SOLUTION__\n",
    "corpus = pd.read_csv('data/satire_nosatire.csv')\n"
   ]
  },
  {
   "cell_type": "code",
   "execution_count": null,
   "metadata": {},
   "outputs": [],
   "source": [
    "#__SOLUTION__\n",
    "def doc_preparer(doc, stop_words=custom_sw):\n",
    "    '''\n",
    "    \n",
    "    :param doc: a document from the satire corpus \n",
    "    :return: a document string with words which have been \n",
    "            lemmatized, \n",
    "            parsed for stopwords, \n",
    "            made lowercase,\n",
    "            and stripped of punctuation and numbers.\n",
    "    '''\n",
    "    \n",
    "    regex_token = RegexpTokenizer(r\"([a-zA-Z]+(?:’[a-z]+)?)\")\n",
    "    doc = regex_token.tokenize(doc)\n",
    "    doc = [word.lower() for word in doc]\n",
    "    doc = [word for word in doc if word not in stop_words]\n",
    "    doc = pos_tag(doc)\n",
    "    doc = [(word[0], get_wordnet_pos(word[1])) for word in doc]\n",
    "    lemmatizer = WordNetLemmatizer() \n",
    "    doc = [lemmatizer.lemmatize(word[0], word[1]) for word in doc]\n",
    "    return ' '.join(doc)\n"
   ]
  },
  {
   "cell_type": "code",
   "execution_count": null,
   "metadata": {},
   "outputs": [],
   "source": [
    "#__SOLUTION__\n",
    "docs = [doc_preparer(doc) for doc in corpus.body]"
   ]
  },
  {
   "cell_type": "code",
   "execution_count": null,
   "metadata": {},
   "outputs": [],
   "source": [
    "#__SOLUTION__\n",
    "tf_idf = TfidfVectorizer(min_df = .05)\n",
    "X = tf_idf.fit_transform(docs)\n",
    "\n",
    "df = pd.DataFrame(X.toarray())\n",
    "df.columns = tf_idf.vocabulary_\n",
    "df.head()"
   ]
  }
 ],
 "metadata": {
  "kernelspec": {
   "display_name": "Python 3",
   "language": "python",
   "name": "python3"
  },
  "language_info": {
   "codemirror_mode": {
    "name": "ipython",
    "version": 3
   },
   "file_extension": ".py",
   "mimetype": "text/x-python",
   "name": "python",
   "nbconvert_exporter": "python",
   "pygments_lexer": "ipython3",
   "version": "3.6.9"
  }
 },
 "nbformat": 4,
 "nbformat_minor": 4
}
